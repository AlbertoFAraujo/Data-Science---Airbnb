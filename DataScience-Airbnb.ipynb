{
 "cells": [
  {
   "cell_type": "markdown",
   "id": "e39dd81e",
   "metadata": {},
   "source": [
    "# Previsão de preços - Airbnb RJ\n"
   ]
  },
  {
   "cell_type": "markdown",
   "id": "46d80a75",
   "metadata": {},
   "source": [
    "### Contexto\n",
    "\n",
    "O Airbnb é uma plataforma online de aluguel de acomodações de curto prazo em todo o mundo. Anfitriões listam suas propriedades e os viajantes podem reservar diretamente através do site ou aplicativo. Oferece variedade de opções de acomodação para diferentes orçamentos e preferências de viagem. \n",
    "\n",
    "Permite viver como um local, oferece espaços privados e pode ser mais econômico que hotéis. É importante verificar as políticas de cancelamento, regras da propriedade e revisões de outros usuários antes de reservar.\n",
    "\n",
    "### Objetivo do projeto\n",
    "\n",
    "Criar um modelo de previsão de preço para servir como base do quanto cobrar pela diária do seu imóvel e/ou verificar se o imóvel está com preço abaixo da média, tratando-se da posição de consumidor.\n",
    "\n",
    "#### Download das bases de dados\n",
    "https://www.kaggle.com/datasets/allanbruno/airbnb-rio-de-janeiro\n",
    "\n",
    "##### Créditos:\n",
    "Hashtag Treinamentos"
   ]
  },
  {
   "cell_type": "markdown",
   "id": "9e99b9c3",
   "metadata": {},
   "source": [
    "### Importações de bibliotecas"
   ]
  },
  {
   "cell_type": "code",
   "execution_count": 2,
   "id": "ce56e9df",
   "metadata": {},
   "outputs": [],
   "source": [
    "import pandas as pd\n",
    "import pathlib \n",
    "import numpy as np\n",
    "import seaborn as sns\n",
    "import matplotlib.pyplot as plt"
   ]
  },
  {
   "cell_type": "code",
   "execution_count": 4,
   "id": "043d3489",
   "metadata": {},
   "outputs": [
    {
     "name": "stderr",
     "output_type": "stream",
     "text": [
      "C:\\Users\\alber\\AppData\\Local\\Temp\\ipykernel_43020\\3730028317.py:15: DtypeWarning: Columns (62,87) have mixed types. Specify dtype option on import or set low_memory=False.\n",
      "  df = pd.read_csv(r'dataset\\{}'.format(arquivo.name))\n",
      "C:\\Users\\alber\\AppData\\Local\\Temp\\ipykernel_43020\\3730028317.py:18: FutureWarning: The frame.append method is deprecated and will be removed from pandas in a future version. Use pandas.concat instead.\n",
      "  base_airbnb = base_airbnb.append(df)\n",
      "C:\\Users\\alber\\AppData\\Local\\Temp\\ipykernel_43020\\3730028317.py:15: DtypeWarning: Columns (61,62,94) have mixed types. Specify dtype option on import or set low_memory=False.\n",
      "  df = pd.read_csv(r'dataset\\{}'.format(arquivo.name))\n",
      "C:\\Users\\alber\\AppData\\Local\\Temp\\ipykernel_43020\\3730028317.py:18: FutureWarning: The frame.append method is deprecated and will be removed from pandas in a future version. Use pandas.concat instead.\n",
      "  base_airbnb = base_airbnb.append(df)\n",
      "C:\\Users\\alber\\AppData\\Local\\Temp\\ipykernel_43020\\3730028317.py:15: DtypeWarning: Columns (61,62,94) have mixed types. Specify dtype option on import or set low_memory=False.\n",
      "  df = pd.read_csv(r'dataset\\{}'.format(arquivo.name))\n",
      "C:\\Users\\alber\\AppData\\Local\\Temp\\ipykernel_43020\\3730028317.py:18: FutureWarning: The frame.append method is deprecated and will be removed from pandas in a future version. Use pandas.concat instead.\n",
      "  base_airbnb = base_airbnb.append(df)\n",
      "C:\\Users\\alber\\AppData\\Local\\Temp\\ipykernel_43020\\3730028317.py:15: DtypeWarning: Columns (87) have mixed types. Specify dtype option on import or set low_memory=False.\n",
      "  df = pd.read_csv(r'dataset\\{}'.format(arquivo.name))\n",
      "C:\\Users\\alber\\AppData\\Local\\Temp\\ipykernel_43020\\3730028317.py:18: FutureWarning: The frame.append method is deprecated and will be removed from pandas in a future version. Use pandas.concat instead.\n",
      "  base_airbnb = base_airbnb.append(df)\n",
      "C:\\Users\\alber\\AppData\\Local\\Temp\\ipykernel_43020\\3730028317.py:15: DtypeWarning: Columns (61,62,94) have mixed types. Specify dtype option on import or set low_memory=False.\n",
      "  df = pd.read_csv(r'dataset\\{}'.format(arquivo.name))\n",
      "C:\\Users\\alber\\AppData\\Local\\Temp\\ipykernel_43020\\3730028317.py:18: FutureWarning: The frame.append method is deprecated and will be removed from pandas in a future version. Use pandas.concat instead.\n",
      "  base_airbnb = base_airbnb.append(df)\n",
      "C:\\Users\\alber\\AppData\\Local\\Temp\\ipykernel_43020\\3730028317.py:15: DtypeWarning: Columns (87) have mixed types. Specify dtype option on import or set low_memory=False.\n",
      "  df = pd.read_csv(r'dataset\\{}'.format(arquivo.name))\n",
      "C:\\Users\\alber\\AppData\\Local\\Temp\\ipykernel_43020\\3730028317.py:18: FutureWarning: The frame.append method is deprecated and will be removed from pandas in a future version. Use pandas.concat instead.\n",
      "  base_airbnb = base_airbnb.append(df)\n",
      "C:\\Users\\alber\\AppData\\Local\\Temp\\ipykernel_43020\\3730028317.py:15: DtypeWarning: Columns (61,62,94) have mixed types. Specify dtype option on import or set low_memory=False.\n",
      "  df = pd.read_csv(r'dataset\\{}'.format(arquivo.name))\n",
      "C:\\Users\\alber\\AppData\\Local\\Temp\\ipykernel_43020\\3730028317.py:18: FutureWarning: The frame.append method is deprecated and will be removed from pandas in a future version. Use pandas.concat instead.\n",
      "  base_airbnb = base_airbnb.append(df)\n",
      "C:\\Users\\alber\\AppData\\Local\\Temp\\ipykernel_43020\\3730028317.py:15: DtypeWarning: Columns (61,62,94) have mixed types. Specify dtype option on import or set low_memory=False.\n",
      "  df = pd.read_csv(r'dataset\\{}'.format(arquivo.name))\n",
      "C:\\Users\\alber\\AppData\\Local\\Temp\\ipykernel_43020\\3730028317.py:18: FutureWarning: The frame.append method is deprecated and will be removed from pandas in a future version. Use pandas.concat instead.\n",
      "  base_airbnb = base_airbnb.append(df)\n",
      "C:\\Users\\alber\\AppData\\Local\\Temp\\ipykernel_43020\\3730028317.py:15: DtypeWarning: Columns (61,62,94) have mixed types. Specify dtype option on import or set low_memory=False.\n",
      "  df = pd.read_csv(r'dataset\\{}'.format(arquivo.name))\n",
      "C:\\Users\\alber\\AppData\\Local\\Temp\\ipykernel_43020\\3730028317.py:18: FutureWarning: The frame.append method is deprecated and will be removed from pandas in a future version. Use pandas.concat instead.\n",
      "  base_airbnb = base_airbnb.append(df)\n",
      "C:\\Users\\alber\\AppData\\Local\\Temp\\ipykernel_43020\\3730028317.py:15: DtypeWarning: Columns (61,62,94) have mixed types. Specify dtype option on import or set low_memory=False.\n",
      "  df = pd.read_csv(r'dataset\\{}'.format(arquivo.name))\n",
      "C:\\Users\\alber\\AppData\\Local\\Temp\\ipykernel_43020\\3730028317.py:18: FutureWarning: The frame.append method is deprecated and will be removed from pandas in a future version. Use pandas.concat instead.\n",
      "  base_airbnb = base_airbnb.append(df)\n",
      "C:\\Users\\alber\\AppData\\Local\\Temp\\ipykernel_43020\\3730028317.py:15: DtypeWarning: Columns (61,62,94) have mixed types. Specify dtype option on import or set low_memory=False.\n",
      "  df = pd.read_csv(r'dataset\\{}'.format(arquivo.name))\n",
      "C:\\Users\\alber\\AppData\\Local\\Temp\\ipykernel_43020\\3730028317.py:18: FutureWarning: The frame.append method is deprecated and will be removed from pandas in a future version. Use pandas.concat instead.\n",
      "  base_airbnb = base_airbnb.append(df)\n",
      "C:\\Users\\alber\\AppData\\Local\\Temp\\ipykernel_43020\\3730028317.py:15: DtypeWarning: Columns (87) have mixed types. Specify dtype option on import or set low_memory=False.\n",
      "  df = pd.read_csv(r'dataset\\{}'.format(arquivo.name))\n",
      "C:\\Users\\alber\\AppData\\Local\\Temp\\ipykernel_43020\\3730028317.py:18: FutureWarning: The frame.append method is deprecated and will be removed from pandas in a future version. Use pandas.concat instead.\n",
      "  base_airbnb = base_airbnb.append(df)\n",
      "C:\\Users\\alber\\AppData\\Local\\Temp\\ipykernel_43020\\3730028317.py:15: DtypeWarning: Columns (61,62,94) have mixed types. Specify dtype option on import or set low_memory=False.\n",
      "  df = pd.read_csv(r'dataset\\{}'.format(arquivo.name))\n",
      "C:\\Users\\alber\\AppData\\Local\\Temp\\ipykernel_43020\\3730028317.py:18: FutureWarning: The frame.append method is deprecated and will be removed from pandas in a future version. Use pandas.concat instead.\n",
      "  base_airbnb = base_airbnb.append(df)\n",
      "C:\\Users\\alber\\AppData\\Local\\Temp\\ipykernel_43020\\3730028317.py:15: DtypeWarning: Columns (61,62,94) have mixed types. Specify dtype option on import or set low_memory=False.\n",
      "  df = pd.read_csv(r'dataset\\{}'.format(arquivo.name))\n",
      "C:\\Users\\alber\\AppData\\Local\\Temp\\ipykernel_43020\\3730028317.py:18: FutureWarning: The frame.append method is deprecated and will be removed from pandas in a future version. Use pandas.concat instead.\n",
      "  base_airbnb = base_airbnb.append(df)\n",
      "C:\\Users\\alber\\AppData\\Local\\Temp\\ipykernel_43020\\3730028317.py:15: DtypeWarning: Columns (87) have mixed types. Specify dtype option on import or set low_memory=False.\n",
      "  df = pd.read_csv(r'dataset\\{}'.format(arquivo.name))\n",
      "C:\\Users\\alber\\AppData\\Local\\Temp\\ipykernel_43020\\3730028317.py:18: FutureWarning: The frame.append method is deprecated and will be removed from pandas in a future version. Use pandas.concat instead.\n",
      "  base_airbnb = base_airbnb.append(df)\n",
      "C:\\Users\\alber\\AppData\\Local\\Temp\\ipykernel_43020\\3730028317.py:15: DtypeWarning: Columns (61,62,94) have mixed types. Specify dtype option on import or set low_memory=False.\n",
      "  df = pd.read_csv(r'dataset\\{}'.format(arquivo.name))\n",
      "C:\\Users\\alber\\AppData\\Local\\Temp\\ipykernel_43020\\3730028317.py:18: FutureWarning: The frame.append method is deprecated and will be removed from pandas in a future version. Use pandas.concat instead.\n",
      "  base_airbnb = base_airbnb.append(df)\n",
      "C:\\Users\\alber\\AppData\\Local\\Temp\\ipykernel_43020\\3730028317.py:15: DtypeWarning: Columns (61,62,94) have mixed types. Specify dtype option on import or set low_memory=False.\n",
      "  df = pd.read_csv(r'dataset\\{}'.format(arquivo.name))\n",
      "C:\\Users\\alber\\AppData\\Local\\Temp\\ipykernel_43020\\3730028317.py:18: FutureWarning: The frame.append method is deprecated and will be removed from pandas in a future version. Use pandas.concat instead.\n",
      "  base_airbnb = base_airbnb.append(df)\n",
      "C:\\Users\\alber\\AppData\\Local\\Temp\\ipykernel_43020\\3730028317.py:15: DtypeWarning: Columns (61,62,94) have mixed types. Specify dtype option on import or set low_memory=False.\n",
      "  df = pd.read_csv(r'dataset\\{}'.format(arquivo.name))\n",
      "C:\\Users\\alber\\AppData\\Local\\Temp\\ipykernel_43020\\3730028317.py:18: FutureWarning: The frame.append method is deprecated and will be removed from pandas in a future version. Use pandas.concat instead.\n",
      "  base_airbnb = base_airbnb.append(df)\n"
     ]
    },
    {
     "name": "stderr",
     "output_type": "stream",
     "text": [
      "C:\\Users\\alber\\AppData\\Local\\Temp\\ipykernel_43020\\3730028317.py:15: DtypeWarning: Columns (61,62,94) have mixed types. Specify dtype option on import or set low_memory=False.\n",
      "  df = pd.read_csv(r'dataset\\{}'.format(arquivo.name))\n",
      "C:\\Users\\alber\\AppData\\Local\\Temp\\ipykernel_43020\\3730028317.py:18: FutureWarning: The frame.append method is deprecated and will be removed from pandas in a future version. Use pandas.concat instead.\n",
      "  base_airbnb = base_airbnb.append(df)\n",
      "C:\\Users\\alber\\AppData\\Local\\Temp\\ipykernel_43020\\3730028317.py:15: DtypeWarning: Columns (61,62,94) have mixed types. Specify dtype option on import or set low_memory=False.\n",
      "  df = pd.read_csv(r'dataset\\{}'.format(arquivo.name))\n",
      "C:\\Users\\alber\\AppData\\Local\\Temp\\ipykernel_43020\\3730028317.py:18: FutureWarning: The frame.append method is deprecated and will be removed from pandas in a future version. Use pandas.concat instead.\n",
      "  base_airbnb = base_airbnb.append(df)\n",
      "C:\\Users\\alber\\AppData\\Local\\Temp\\ipykernel_43020\\3730028317.py:15: DtypeWarning: Columns (87) have mixed types. Specify dtype option on import or set low_memory=False.\n",
      "  df = pd.read_csv(r'dataset\\{}'.format(arquivo.name))\n",
      "C:\\Users\\alber\\AppData\\Local\\Temp\\ipykernel_43020\\3730028317.py:18: FutureWarning: The frame.append method is deprecated and will be removed from pandas in a future version. Use pandas.concat instead.\n",
      "  base_airbnb = base_airbnb.append(df)\n",
      "C:\\Users\\alber\\AppData\\Local\\Temp\\ipykernel_43020\\3730028317.py:15: DtypeWarning: Columns (87) have mixed types. Specify dtype option on import or set low_memory=False.\n",
      "  df = pd.read_csv(r'dataset\\{}'.format(arquivo.name))\n",
      "C:\\Users\\alber\\AppData\\Local\\Temp\\ipykernel_43020\\3730028317.py:18: FutureWarning: The frame.append method is deprecated and will be removed from pandas in a future version. Use pandas.concat instead.\n",
      "  base_airbnb = base_airbnb.append(df)\n",
      "C:\\Users\\alber\\AppData\\Local\\Temp\\ipykernel_43020\\3730028317.py:15: DtypeWarning: Columns (61,62,94) have mixed types. Specify dtype option on import or set low_memory=False.\n",
      "  df = pd.read_csv(r'dataset\\{}'.format(arquivo.name))\n",
      "C:\\Users\\alber\\AppData\\Local\\Temp\\ipykernel_43020\\3730028317.py:18: FutureWarning: The frame.append method is deprecated and will be removed from pandas in a future version. Use pandas.concat instead.\n",
      "  base_airbnb = base_airbnb.append(df)\n",
      "C:\\Users\\alber\\AppData\\Local\\Temp\\ipykernel_43020\\3730028317.py:15: DtypeWarning: Columns (87) have mixed types. Specify dtype option on import or set low_memory=False.\n",
      "  df = pd.read_csv(r'dataset\\{}'.format(arquivo.name))\n",
      "C:\\Users\\alber\\AppData\\Local\\Temp\\ipykernel_43020\\3730028317.py:18: FutureWarning: The frame.append method is deprecated and will be removed from pandas in a future version. Use pandas.concat instead.\n",
      "  base_airbnb = base_airbnb.append(df)\n",
      "C:\\Users\\alber\\AppData\\Local\\Temp\\ipykernel_43020\\3730028317.py:15: DtypeWarning: Columns (61,62,94) have mixed types. Specify dtype option on import or set low_memory=False.\n",
      "  df = pd.read_csv(r'dataset\\{}'.format(arquivo.name))\n",
      "C:\\Users\\alber\\AppData\\Local\\Temp\\ipykernel_43020\\3730028317.py:18: FutureWarning: The frame.append method is deprecated and will be removed from pandas in a future version. Use pandas.concat instead.\n",
      "  base_airbnb = base_airbnb.append(df)\n"
     ]
    }
   ],
   "source": [
    "meses = {'jan': 1, 'fev': 2, 'mar': 3, 'abr': 4, 'mai': 5, 'jun': 6, \n",
    "         'jul': 7, 'ago': 8, 'set': 9, 'out': 10, 'nov': 11, 'dez': 12}\n",
    " \n",
    "# Caminho das bases de dados\n",
    "caminho_bases = pathlib.Path('dataset')\n",
    "\n",
    "# Cria um dataframe vazio\n",
    "base_airbnb = pd.DataFrame()\n",
    "\n",
    "# Percorre todos os arquivos do caminho_base com o iterdir() e adiciona no df anterior\n",
    "for arquivo in caminho_bases.iterdir():\n",
    "    ano = int(arquivo.name[-8:-4])\n",
    "    mes = meses[arquivo.name[:3]]\n",
    "    \n",
    "    df = pd.read_csv(r'dataset\\{}'.format(arquivo.name))\n",
    "    df['ano'] = ano\n",
    "    df['mes'] = mes\n",
    "    base_airbnb = base_airbnb.append(df)\n",
    "\n",
    "#display(base_airbnb)"
   ]
  },
  {
   "cell_type": "code",
   "execution_count": 5,
   "id": "7bc92b11",
   "metadata": {},
   "outputs": [
    {
     "name": "stdout",
     "output_type": "stream",
     "text": [
      "['id', 'listing_url', 'scrape_id', 'last_scraped', 'name', 'summary', 'space', 'description', 'experiences_offered', 'neighborhood_overview', 'notes', 'transit', 'access', 'interaction', 'house_rules', 'thumbnail_url', 'medium_url', 'picture_url', 'xl_picture_url', 'host_id', 'host_url', 'host_name', 'host_since', 'host_location', 'host_about', 'host_response_time', 'host_response_rate', 'host_acceptance_rate', 'host_is_superhost', 'host_thumbnail_url', 'host_picture_url', 'host_neighbourhood', 'host_listings_count', 'host_total_listings_count', 'host_verifications', 'host_has_profile_pic', 'host_identity_verified', 'street', 'neighbourhood', 'neighbourhood_cleansed', 'neighbourhood_group_cleansed', 'city', 'state', 'zipcode', 'market', 'smart_location', 'country_code', 'country', 'latitude', 'longitude', 'is_location_exact', 'property_type', 'room_type', 'accommodates', 'bathrooms', 'bedrooms', 'beds', 'bed_type', 'amenities', 'square_feet', 'price', 'weekly_price', 'monthly_price', 'security_deposit', 'cleaning_fee', 'guests_included', 'extra_people', 'minimum_nights', 'maximum_nights', 'minimum_minimum_nights', 'maximum_minimum_nights', 'minimum_maximum_nights', 'maximum_maximum_nights', 'minimum_nights_avg_ntm', 'maximum_nights_avg_ntm', 'calendar_updated', 'has_availability', 'availability_30', 'availability_60', 'availability_90', 'availability_365', 'calendar_last_scraped', 'number_of_reviews', 'number_of_reviews_ltm', 'first_review', 'last_review', 'review_scores_rating', 'review_scores_accuracy', 'review_scores_cleanliness', 'review_scores_checkin', 'review_scores_communication', 'review_scores_location', 'review_scores_value', 'requires_license', 'license', 'jurisdiction_names', 'instant_bookable', 'is_business_travel_ready', 'cancellation_policy', 'require_guest_profile_picture', 'require_guest_phone_verification', 'calculated_host_listings_count', 'calculated_host_listings_count_entire_homes', 'calculated_host_listings_count_private_rooms', 'calculated_host_listings_count_shared_rooms', 'reviews_per_month', 'ano', 'mes']\n"
     ]
    }
   ],
   "source": [
    "# Realizando o data wrangling das variáveis sem utilidade\n",
    "print(list(df.columns))"
   ]
  },
  {
   "cell_type": "markdown",
   "id": "8a3b42e2",
   "metadata": {},
   "source": [
    "### Data Wrangling"
   ]
  },
  {
   "cell_type": "code",
   "execution_count": null,
   "id": "7ac7cf0a",
   "metadata": {},
   "outputs": [],
   "source": [
    "# Analisando as 1000 primeiras observações\n",
    "#base_airbnb.head(1000).to_csv('primeiras_observacoes.csv', sep=';')"
   ]
  },
  {
   "cell_type": "code",
   "execution_count": 6,
   "id": "9be512c7",
   "metadata": {},
   "outputs": [
    {
     "name": "stdout",
     "output_type": "stream",
     "text": [
      "host_is_superhost\n",
      "f                    805893\n",
      "t                     95857\n",
      "dtype: int64\n",
      "\n",
      "host_neighbourhood\n",
      "Copacabana            25\n",
      "Ipanema               15\n",
      "Santa Teresa           9\n",
      "Leblon                 7\n",
      "Barra da Tijuca        6\n",
      "Botafogo               6\n",
      "Lapa                   4\n",
      "Laranjeiras            3\n",
      "Vidigal                2\n",
      "Joá                    2\n",
      "Flamengo               2\n",
      "São Conrado            2\n",
      "Santo Cristo           2\n",
      "Montmartre             1\n",
      "Tijuca                 1\n",
      "São Cristóvão          1\n",
      "Centro                 1\n",
      "Gávea                  1\n",
      "Maracanã               1\n",
      "Humaitá                1\n",
      "Consolacao             1\n",
      "Lagoa                  1\n",
      "Glória                 1\n",
      "Leme                   1\n",
      "dtype: int64\n"
     ]
    }
   ],
   "source": [
    "# Analisar parcialmente a variável\n",
    "print(base_airbnb[['host_is_superhost']].value_counts())\n",
    "print('')\n",
    "print(base_airbnb.head(100)[['host_neighbourhood']].value_counts())"
   ]
  },
  {
   "cell_type": "code",
   "execution_count": 7,
   "id": "bf031b29",
   "metadata": {},
   "outputs": [
    {
     "name": "stdout",
     "output_type": "stream",
     "text": [
      "True     901750\n",
      "False       460\n",
      "dtype: int64\n"
     ]
    }
   ],
   "source": [
    "# Verificar se duas variáveis são idênticas:\n",
    "print((base_airbnb['host_listings_count'] == base_airbnb['host_total_listings_count']).value_counts())"
   ]
  },
  {
   "cell_type": "code",
   "execution_count": 8,
   "id": "2323bcd1",
   "metadata": {},
   "outputs": [
    {
     "name": "stdout",
     "output_type": "stream",
     "text": [
      "902210 │ 888162 │ 14048\n"
     ]
    }
   ],
   "source": [
    "# Verificando o número de células vazias para tomada de decisão de exclusão\n",
    "total = base_airbnb['id'].count() \n",
    "vazias = base_airbnb['square_feet'].isnull().sum()\n",
    "dif = total - vazias\n",
    "\n",
    "print(total,'│', vazias,'│', dif)"
   ]
  },
  {
   "cell_type": "code",
   "execution_count": 9,
   "id": "decedddd",
   "metadata": {},
   "outputs": [
    {
     "name": "stdout",
     "output_type": "stream",
     "text": [
      "['host_response_time', 'host_response_rate', 'host_is_superhost', 'host_listings_count', 'latitude', 'longitude', 'property_type', 'room_type', 'accommodates', 'bathrooms', 'bedrooms', 'beds', 'bed_type', 'amenities', 'price', 'security_deposit', 'cleaning_fee', 'guests_included', 'extra_people', 'minimum_nights', 'maximum_nights', 'number_of_reviews', 'review_scores_rating', 'review_scores_accuracy', 'review_scores_cleanliness', 'review_scores_checkin', 'review_scores_communication', 'review_scores_location', 'review_scores_value', 'instant_bookable', 'is_business_travel_ready', 'cancellation_policy', 'ano', 'mes'] \n",
      "\n",
      "Foram importadas 34 variáveis\n"
     ]
    }
   ],
   "source": [
    "# Após a limpeza das colunas que não serão necessárias, iremos informar ao python somente as que queremos manter:\n",
    "\n",
    "df_ajustado = pd.read_csv(r'primeiras_observacoes.csv', sep=\";\")\n",
    "\n",
    "# Extrair as colunas da nova base de dados\n",
    "colunas = [coluna for coluna in df_ajustado.columns]\n",
    "print(colunas,'\\n')\n",
    "print('Foram importadas {} variáveis'.format(len(colunas)))"
   ]
  },
  {
   "cell_type": "code",
   "execution_count": 10,
   "id": "d7d26fcc",
   "metadata": {},
   "outputs": [
    {
     "data": {
      "text/html": [
       "<div>\n",
       "<style scoped>\n",
       "    .dataframe tbody tr th:only-of-type {\n",
       "        vertical-align: middle;\n",
       "    }\n",
       "\n",
       "    .dataframe tbody tr th {\n",
       "        vertical-align: top;\n",
       "    }\n",
       "\n",
       "    .dataframe thead th {\n",
       "        text-align: right;\n",
       "    }\n",
       "</style>\n",
       "<table border=\"1\" class=\"dataframe\">\n",
       "  <thead>\n",
       "    <tr style=\"text-align: right;\">\n",
       "      <th></th>\n",
       "      <th>host_response_time</th>\n",
       "      <th>host_response_rate</th>\n",
       "      <th>host_is_superhost</th>\n",
       "      <th>host_listings_count</th>\n",
       "      <th>latitude</th>\n",
       "      <th>longitude</th>\n",
       "      <th>property_type</th>\n",
       "      <th>room_type</th>\n",
       "      <th>accommodates</th>\n",
       "      <th>bathrooms</th>\n",
       "      <th>...</th>\n",
       "      <th>review_scores_cleanliness</th>\n",
       "      <th>review_scores_checkin</th>\n",
       "      <th>review_scores_communication</th>\n",
       "      <th>review_scores_location</th>\n",
       "      <th>review_scores_value</th>\n",
       "      <th>instant_bookable</th>\n",
       "      <th>is_business_travel_ready</th>\n",
       "      <th>cancellation_policy</th>\n",
       "      <th>ano</th>\n",
       "      <th>mes</th>\n",
       "    </tr>\n",
       "  </thead>\n",
       "  <tbody>\n",
       "    <tr>\n",
       "      <th>0</th>\n",
       "      <td>NaN</td>\n",
       "      <td>NaN</td>\n",
       "      <td>f</td>\n",
       "      <td>1.0</td>\n",
       "      <td>-22.946854</td>\n",
       "      <td>-43.182737</td>\n",
       "      <td>Apartment</td>\n",
       "      <td>Entire home/apt</td>\n",
       "      <td>4</td>\n",
       "      <td>1.0</td>\n",
       "      <td>...</td>\n",
       "      <td>9.0</td>\n",
       "      <td>9.0</td>\n",
       "      <td>9.0</td>\n",
       "      <td>9.0</td>\n",
       "      <td>9.0</td>\n",
       "      <td>f</td>\n",
       "      <td>f</td>\n",
       "      <td>strict_14_with_grace_period</td>\n",
       "      <td>2018</td>\n",
       "      <td>4</td>\n",
       "    </tr>\n",
       "    <tr>\n",
       "      <th>1</th>\n",
       "      <td>within an hour</td>\n",
       "      <td>100%</td>\n",
       "      <td>t</td>\n",
       "      <td>2.0</td>\n",
       "      <td>-22.965919</td>\n",
       "      <td>-43.178962</td>\n",
       "      <td>Condominium</td>\n",
       "      <td>Entire home/apt</td>\n",
       "      <td>5</td>\n",
       "      <td>1.0</td>\n",
       "      <td>...</td>\n",
       "      <td>9.0</td>\n",
       "      <td>10.0</td>\n",
       "      <td>10.0</td>\n",
       "      <td>9.0</td>\n",
       "      <td>9.0</td>\n",
       "      <td>t</td>\n",
       "      <td>f</td>\n",
       "      <td>strict</td>\n",
       "      <td>2018</td>\n",
       "      <td>4</td>\n",
       "    </tr>\n",
       "    <tr>\n",
       "      <th>2</th>\n",
       "      <td>within an hour</td>\n",
       "      <td>100%</td>\n",
       "      <td>f</td>\n",
       "      <td>1.0</td>\n",
       "      <td>-22.985698</td>\n",
       "      <td>-43.201935</td>\n",
       "      <td>Apartment</td>\n",
       "      <td>Entire home/apt</td>\n",
       "      <td>2</td>\n",
       "      <td>1.0</td>\n",
       "      <td>...</td>\n",
       "      <td>10.0</td>\n",
       "      <td>10.0</td>\n",
       "      <td>10.0</td>\n",
       "      <td>10.0</td>\n",
       "      <td>9.0</td>\n",
       "      <td>f</td>\n",
       "      <td>f</td>\n",
       "      <td>strict</td>\n",
       "      <td>2018</td>\n",
       "      <td>4</td>\n",
       "    </tr>\n",
       "    <tr>\n",
       "      <th>3</th>\n",
       "      <td>within an hour</td>\n",
       "      <td>100%</td>\n",
       "      <td>f</td>\n",
       "      <td>3.0</td>\n",
       "      <td>-22.977117</td>\n",
       "      <td>-43.190454</td>\n",
       "      <td>Apartment</td>\n",
       "      <td>Entire home/apt</td>\n",
       "      <td>3</td>\n",
       "      <td>1.0</td>\n",
       "      <td>...</td>\n",
       "      <td>10.0</td>\n",
       "      <td>10.0</td>\n",
       "      <td>10.0</td>\n",
       "      <td>10.0</td>\n",
       "      <td>9.0</td>\n",
       "      <td>f</td>\n",
       "      <td>f</td>\n",
       "      <td>strict</td>\n",
       "      <td>2018</td>\n",
       "      <td>4</td>\n",
       "    </tr>\n",
       "    <tr>\n",
       "      <th>4</th>\n",
       "      <td>within an hour</td>\n",
       "      <td>100%</td>\n",
       "      <td>t</td>\n",
       "      <td>1.0</td>\n",
       "      <td>-22.983024</td>\n",
       "      <td>-43.214270</td>\n",
       "      <td>Apartment</td>\n",
       "      <td>Entire home/apt</td>\n",
       "      <td>3</td>\n",
       "      <td>1.0</td>\n",
       "      <td>...</td>\n",
       "      <td>10.0</td>\n",
       "      <td>10.0</td>\n",
       "      <td>10.0</td>\n",
       "      <td>10.0</td>\n",
       "      <td>9.0</td>\n",
       "      <td>t</td>\n",
       "      <td>f</td>\n",
       "      <td>strict</td>\n",
       "      <td>2018</td>\n",
       "      <td>4</td>\n",
       "    </tr>\n",
       "    <tr>\n",
       "      <th>...</th>\n",
       "      <td>...</td>\n",
       "      <td>...</td>\n",
       "      <td>...</td>\n",
       "      <td>...</td>\n",
       "      <td>...</td>\n",
       "      <td>...</td>\n",
       "      <td>...</td>\n",
       "      <td>...</td>\n",
       "      <td>...</td>\n",
       "      <td>...</td>\n",
       "      <td>...</td>\n",
       "      <td>...</td>\n",
       "      <td>...</td>\n",
       "      <td>...</td>\n",
       "      <td>...</td>\n",
       "      <td>...</td>\n",
       "      <td>...</td>\n",
       "      <td>...</td>\n",
       "      <td>...</td>\n",
       "      <td>...</td>\n",
       "      <td>...</td>\n",
       "    </tr>\n",
       "    <tr>\n",
       "      <th>34324</th>\n",
       "      <td>within an hour</td>\n",
       "      <td>93%</td>\n",
       "      <td>f</td>\n",
       "      <td>0.0</td>\n",
       "      <td>-23.003180</td>\n",
       "      <td>-43.342840</td>\n",
       "      <td>Apartment</td>\n",
       "      <td>Entire home/apt</td>\n",
       "      <td>4</td>\n",
       "      <td>1.0</td>\n",
       "      <td>...</td>\n",
       "      <td>NaN</td>\n",
       "      <td>NaN</td>\n",
       "      <td>NaN</td>\n",
       "      <td>NaN</td>\n",
       "      <td>NaN</td>\n",
       "      <td>f</td>\n",
       "      <td>f</td>\n",
       "      <td>flexible</td>\n",
       "      <td>2019</td>\n",
       "      <td>9</td>\n",
       "    </tr>\n",
       "    <tr>\n",
       "      <th>34325</th>\n",
       "      <td>NaN</td>\n",
       "      <td>NaN</td>\n",
       "      <td>f</td>\n",
       "      <td>0.0</td>\n",
       "      <td>-22.966640</td>\n",
       "      <td>-43.393450</td>\n",
       "      <td>Apartment</td>\n",
       "      <td>Entire home/apt</td>\n",
       "      <td>4</td>\n",
       "      <td>2.0</td>\n",
       "      <td>...</td>\n",
       "      <td>NaN</td>\n",
       "      <td>NaN</td>\n",
       "      <td>NaN</td>\n",
       "      <td>NaN</td>\n",
       "      <td>NaN</td>\n",
       "      <td>f</td>\n",
       "      <td>f</td>\n",
       "      <td>flexible</td>\n",
       "      <td>2019</td>\n",
       "      <td>9</td>\n",
       "    </tr>\n",
       "    <tr>\n",
       "      <th>34326</th>\n",
       "      <td>within a few hours</td>\n",
       "      <td>74%</td>\n",
       "      <td>f</td>\n",
       "      <td>32.0</td>\n",
       "      <td>-22.962080</td>\n",
       "      <td>-43.175520</td>\n",
       "      <td>Apartment</td>\n",
       "      <td>Entire home/apt</td>\n",
       "      <td>5</td>\n",
       "      <td>1.0</td>\n",
       "      <td>...</td>\n",
       "      <td>NaN</td>\n",
       "      <td>NaN</td>\n",
       "      <td>NaN</td>\n",
       "      <td>NaN</td>\n",
       "      <td>NaN</td>\n",
       "      <td>f</td>\n",
       "      <td>f</td>\n",
       "      <td>strict_14_with_grace_period</td>\n",
       "      <td>2019</td>\n",
       "      <td>9</td>\n",
       "    </tr>\n",
       "    <tr>\n",
       "      <th>34327</th>\n",
       "      <td>NaN</td>\n",
       "      <td>NaN</td>\n",
       "      <td>f</td>\n",
       "      <td>0.0</td>\n",
       "      <td>-23.003400</td>\n",
       "      <td>-43.341820</td>\n",
       "      <td>Apartment</td>\n",
       "      <td>Entire home/apt</td>\n",
       "      <td>4</td>\n",
       "      <td>1.0</td>\n",
       "      <td>...</td>\n",
       "      <td>NaN</td>\n",
       "      <td>NaN</td>\n",
       "      <td>NaN</td>\n",
       "      <td>NaN</td>\n",
       "      <td>NaN</td>\n",
       "      <td>f</td>\n",
       "      <td>f</td>\n",
       "      <td>strict_14_with_grace_period</td>\n",
       "      <td>2019</td>\n",
       "      <td>9</td>\n",
       "    </tr>\n",
       "    <tr>\n",
       "      <th>34328</th>\n",
       "      <td>a few days or more</td>\n",
       "      <td>38%</td>\n",
       "      <td>f</td>\n",
       "      <td>5.0</td>\n",
       "      <td>-23.010560</td>\n",
       "      <td>-43.363350</td>\n",
       "      <td>Apartment</td>\n",
       "      <td>Private room</td>\n",
       "      <td>2</td>\n",
       "      <td>0.0</td>\n",
       "      <td>...</td>\n",
       "      <td>NaN</td>\n",
       "      <td>NaN</td>\n",
       "      <td>NaN</td>\n",
       "      <td>NaN</td>\n",
       "      <td>NaN</td>\n",
       "      <td>f</td>\n",
       "      <td>f</td>\n",
       "      <td>strict_14_with_grace_period</td>\n",
       "      <td>2019</td>\n",
       "      <td>9</td>\n",
       "    </tr>\n",
       "  </tbody>\n",
       "</table>\n",
       "<p>902210 rows × 34 columns</p>\n",
       "</div>"
      ],
      "text/plain": [
       "       host_response_time host_response_rate host_is_superhost  \\\n",
       "0                     NaN                NaN                 f   \n",
       "1          within an hour               100%                 t   \n",
       "2          within an hour               100%                 f   \n",
       "3          within an hour               100%                 f   \n",
       "4          within an hour               100%                 t   \n",
       "...                   ...                ...               ...   \n",
       "34324      within an hour                93%                 f   \n",
       "34325                 NaN                NaN                 f   \n",
       "34326  within a few hours                74%                 f   \n",
       "34327                 NaN                NaN                 f   \n",
       "34328  a few days or more                38%                 f   \n",
       "\n",
       "       host_listings_count   latitude  longitude property_type  \\\n",
       "0                      1.0 -22.946854 -43.182737     Apartment   \n",
       "1                      2.0 -22.965919 -43.178962   Condominium   \n",
       "2                      1.0 -22.985698 -43.201935     Apartment   \n",
       "3                      3.0 -22.977117 -43.190454     Apartment   \n",
       "4                      1.0 -22.983024 -43.214270     Apartment   \n",
       "...                    ...        ...        ...           ...   \n",
       "34324                  0.0 -23.003180 -43.342840     Apartment   \n",
       "34325                  0.0 -22.966640 -43.393450     Apartment   \n",
       "34326                 32.0 -22.962080 -43.175520     Apartment   \n",
       "34327                  0.0 -23.003400 -43.341820     Apartment   \n",
       "34328                  5.0 -23.010560 -43.363350     Apartment   \n",
       "\n",
       "             room_type  accommodates  bathrooms  ...  \\\n",
       "0      Entire home/apt             4        1.0  ...   \n",
       "1      Entire home/apt             5        1.0  ...   \n",
       "2      Entire home/apt             2        1.0  ...   \n",
       "3      Entire home/apt             3        1.0  ...   \n",
       "4      Entire home/apt             3        1.0  ...   \n",
       "...                ...           ...        ...  ...   \n",
       "34324  Entire home/apt             4        1.0  ...   \n",
       "34325  Entire home/apt             4        2.0  ...   \n",
       "34326  Entire home/apt             5        1.0  ...   \n",
       "34327  Entire home/apt             4        1.0  ...   \n",
       "34328     Private room             2        0.0  ...   \n",
       "\n",
       "       review_scores_cleanliness  review_scores_checkin  \\\n",
       "0                            9.0                    9.0   \n",
       "1                            9.0                   10.0   \n",
       "2                           10.0                   10.0   \n",
       "3                           10.0                   10.0   \n",
       "4                           10.0                   10.0   \n",
       "...                          ...                    ...   \n",
       "34324                        NaN                    NaN   \n",
       "34325                        NaN                    NaN   \n",
       "34326                        NaN                    NaN   \n",
       "34327                        NaN                    NaN   \n",
       "34328                        NaN                    NaN   \n",
       "\n",
       "      review_scores_communication review_scores_location review_scores_value  \\\n",
       "0                             9.0                    9.0                 9.0   \n",
       "1                            10.0                    9.0                 9.0   \n",
       "2                            10.0                   10.0                 9.0   \n",
       "3                            10.0                   10.0                 9.0   \n",
       "4                            10.0                   10.0                 9.0   \n",
       "...                           ...                    ...                 ...   \n",
       "34324                         NaN                    NaN                 NaN   \n",
       "34325                         NaN                    NaN                 NaN   \n",
       "34326                         NaN                    NaN                 NaN   \n",
       "34327                         NaN                    NaN                 NaN   \n",
       "34328                         NaN                    NaN                 NaN   \n",
       "\n",
       "      instant_bookable is_business_travel_ready          cancellation_policy  \\\n",
       "0                    f                        f  strict_14_with_grace_period   \n",
       "1                    t                        f                       strict   \n",
       "2                    f                        f                       strict   \n",
       "3                    f                        f                       strict   \n",
       "4                    t                        f                       strict   \n",
       "...                ...                      ...                          ...   \n",
       "34324                f                        f                     flexible   \n",
       "34325                f                        f                     flexible   \n",
       "34326                f                        f  strict_14_with_grace_period   \n",
       "34327                f                        f  strict_14_with_grace_period   \n",
       "34328                f                        f  strict_14_with_grace_period   \n",
       "\n",
       "        ano  mes  \n",
       "0      2018    4  \n",
       "1      2018    4  \n",
       "2      2018    4  \n",
       "3      2018    4  \n",
       "4      2018    4  \n",
       "...     ...  ...  \n",
       "34324  2019    9  \n",
       "34325  2019    9  \n",
       "34326  2019    9  \n",
       "34327  2019    9  \n",
       "34328  2019    9  \n",
       "\n",
       "[902210 rows x 34 columns]"
      ]
     },
     "metadata": {},
     "output_type": "display_data"
    }
   ],
   "source": [
    "# Informar ao pandas que queremos somente as colunas informadas anteriormente, na base original\n",
    "\n",
    "base_airbnb = base_airbnb.loc[:,colunas]\n",
    "display(base_airbnb)"
   ]
  },
  {
   "cell_type": "code",
   "execution_count": 11,
   "id": "86936bfd",
   "metadata": {
    "scrolled": false
   },
   "outputs": [
    {
     "name": "stdout",
     "output_type": "stream",
     "text": [
      "host_response_time             401843\n",
      "host_response_rate             401846\n",
      "host_is_superhost                 460\n",
      "host_listings_count               460\n",
      "latitude                            0\n",
      "longitude                           0\n",
      "property_type                       0\n",
      "room_type                           0\n",
      "accommodates                        0\n",
      "bathrooms                        1724\n",
      "bedrooms                          850\n",
      "beds                             2502\n",
      "bed_type                            0\n",
      "amenities                           0\n",
      "price                               0\n",
      "security_deposit               421280\n",
      "cleaning_fee                   313506\n",
      "guests_included                     0\n",
      "extra_people                        0\n",
      "minimum_nights                      0\n",
      "maximum_nights                      0\n",
      "number_of_reviews                   0\n",
      "review_scores_rating           448016\n",
      "review_scores_accuracy         448586\n",
      "review_scores_cleanliness      448413\n",
      "review_scores_checkin          448650\n",
      "review_scores_communication    448415\n",
      "review_scores_location         448553\n",
      "review_scores_value            448551\n",
      "instant_bookable                    0\n",
      "is_business_travel_ready            0\n",
      "cancellation_policy                 0\n",
      "ano                                 0\n",
      "mes                                 0\n",
      "dtype: int64\n"
     ]
    }
   ],
   "source": [
    "# Tratamento dos valores faltante por coluna\n",
    "\n",
    "print(base_airbnb.isnull().sum())"
   ]
  },
  {
   "cell_type": "code",
   "execution_count": 12,
   "id": "f0406851",
   "metadata": {},
   "outputs": [
    {
     "name": "stdout",
     "output_type": "stream",
     "text": [
      "host_is_superhost            460\n",
      "host_listings_count          460\n",
      "latitude                       0\n",
      "longitude                      0\n",
      "property_type                  0\n",
      "room_type                      0\n",
      "accommodates                   0\n",
      "bathrooms                   1724\n",
      "bedrooms                     850\n",
      "beds                        2502\n",
      "bed_type                       0\n",
      "amenities                      0\n",
      "price                          0\n",
      "guests_included                0\n",
      "extra_people                   0\n",
      "minimum_nights                 0\n",
      "maximum_nights                 0\n",
      "number_of_reviews              0\n",
      "instant_bookable               0\n",
      "is_business_travel_ready       0\n",
      "cancellation_policy            0\n",
      "ano                            0\n",
      "mes                            0\n",
      "dtype: int64 \n",
      "\n",
      "(902210, 23)\n"
     ]
    }
   ],
   "source": [
    "# Não manteremos as colunas com valores superiores a 300000.\n",
    "\n",
    "# O loop percorre todas as colunas e conta a quantidade de Nan, se for superior a 300k a coluna é removida da base\n",
    "for coluna in base_airbnb.columns:\n",
    "    if base_airbnb[coluna].isnull().sum() > 300000:\n",
    "        base_airbnb = base_airbnb.drop(coluna, axis=1)\n",
    "        \n",
    "print(base_airbnb.isnull().sum(),'\\n')\n",
    "print(base_airbnb.shape)"
   ]
  },
  {
   "cell_type": "code",
   "execution_count": 35,
   "id": "9a6a0cd1",
   "metadata": {},
   "outputs": [
    {
     "name": "stdout",
     "output_type": "stream",
     "text": [
      "host_is_superhost           0\n",
      "host_listings_count         0\n",
      "latitude                    0\n",
      "longitude                   0\n",
      "property_type               0\n",
      "room_type                   0\n",
      "accommodates                0\n",
      "bathrooms                   0\n",
      "bedrooms                    0\n",
      "beds                        0\n",
      "bed_type                    0\n",
      "amenities                   0\n",
      "price                       0\n",
      "guests_included             0\n",
      "extra_people                0\n",
      "minimum_nights              0\n",
      "maximum_nights              0\n",
      "number_of_reviews           0\n",
      "instant_bookable            0\n",
      "is_business_travel_ready    0\n",
      "cancellation_policy         0\n",
      "ano                         0\n",
      "mes                         0\n",
      "dtype: int64\n",
      "(897709, 23)\n"
     ]
    }
   ],
   "source": [
    "# Realizaremos a exclusão das linhas Nan, pois a relação entre a quantidade e o total da base é considerável e não irá influenciar\n",
    "\n",
    "base_airbnb = base_airbnb.dropna()\n",
    "print(base_airbnb.isnull().sum())\n",
    "print(base_airbnb.shape)"
   ]
  },
  {
   "cell_type": "code",
   "execution_count": 13,
   "id": "1d712e31",
   "metadata": {},
   "outputs": [
    {
     "name": "stdout",
     "output_type": "stream",
     "text": [
      "host_is_superhost            object\n",
      "host_listings_count         float64\n",
      "latitude                    float64\n",
      "longitude                   float64\n",
      "property_type                object\n",
      "room_type                    object\n",
      "accommodates                  int64\n",
      "bathrooms                   float64\n",
      "bedrooms                    float64\n",
      "beds                        float64\n",
      "bed_type                     object\n",
      "amenities                    object\n",
      "price                        object\n",
      "guests_included               int64\n",
      "extra_people                 object\n",
      "minimum_nights                int64\n",
      "maximum_nights                int64\n",
      "number_of_reviews             int64\n",
      "instant_bookable             object\n",
      "is_business_travel_ready     object\n",
      "cancellation_policy          object\n",
      "ano                           int64\n",
      "mes                           int64\n",
      "dtype: object\n",
      "host_is_superhost                                                           f\n",
      "host_listings_count                                                       1.0\n",
      "latitude                                                           -22.946854\n",
      "longitude                                                          -43.182737\n",
      "property_type                                                       Apartment\n",
      "room_type                                                     Entire home/apt\n",
      "accommodates                                                                4\n",
      "bathrooms                                                                 1.0\n",
      "bedrooms                                                                  0.0\n",
      "beds                                                                      2.0\n",
      "bed_type                                                             Real Bed\n",
      "amenities                   {TV,Internet,\"Air conditioning\",Kitchen,Doorma...\n",
      "price                                                                 $133.00\n",
      "guests_included                                                             2\n",
      "extra_people                                                           $34.00\n",
      "minimum_nights                                                             60\n",
      "maximum_nights                                                            365\n",
      "number_of_reviews                                                          38\n",
      "instant_bookable                                                            f\n",
      "is_business_travel_ready                                                    f\n",
      "cancellation_policy                               strict_14_with_grace_period\n",
      "ano                                                                      2018\n",
      "mes                                                                         4\n",
      "Name: 0, dtype: object\n"
     ]
    }
   ],
   "source": [
    "# Verificando e corrigindo os tipos de dados\n",
    "print(base_airbnb.dtypes)\n",
    "print(base_airbnb.iloc[0])"
   ]
  },
  {
   "cell_type": "code",
   "execution_count": 14,
   "id": "3d1b20a6",
   "metadata": {},
   "outputs": [
    {
     "name": "stderr",
     "output_type": "stream",
     "text": [
      "C:\\Users\\alber\\AppData\\Local\\Temp\\ipykernel_43020\\3908248493.py:4: FutureWarning: The default value of regex will change from True to False in a future version. In addition, single character regular expressions will *not* be treated as literal strings when regex=True.\n",
      "  base_airbnb['price'] = base_airbnb['price'].str.replace('$', '')\n",
      "C:\\Users\\alber\\AppData\\Local\\Temp\\ipykernel_43020\\3908248493.py:9: FutureWarning: The default value of regex will change from True to False in a future version. In addition, single character regular expressions will *not* be treated as literal strings when regex=True.\n",
      "  base_airbnb['extra_people'] = base_airbnb['extra_people'].str.replace('$', '')\n"
     ]
    },
    {
     "name": "stdout",
     "output_type": "stream",
     "text": [
      "host_is_superhost            object\n",
      "host_listings_count         float64\n",
      "latitude                    float64\n",
      "longitude                   float64\n",
      "property_type                object\n",
      "room_type                    object\n",
      "accommodates                  int64\n",
      "bathrooms                   float64\n",
      "bedrooms                    float64\n",
      "beds                        float64\n",
      "bed_type                     object\n",
      "amenities                    object\n",
      "price                       float32\n",
      "guests_included               int64\n",
      "extra_people                float32\n",
      "minimum_nights                int64\n",
      "maximum_nights                int64\n",
      "number_of_reviews             int64\n",
      "instant_bookable             object\n",
      "is_business_travel_ready     object\n",
      "cancellation_policy          object\n",
      "ano                           int64\n",
      "mes                           int64\n",
      "dtype: object\n"
     ]
    }
   ],
   "source": [
    "# Alterando os tipos de dados\n",
    "\n",
    "#price > object > float32\n",
    "base_airbnb['price'] = base_airbnb['price'].str.replace('$', '')\n",
    "base_airbnb['price'] = base_airbnb['price'].str.replace(',', '')\n",
    "base_airbnb['price'] = base_airbnb['price'].astype(np.float32, copy=False)\n",
    "\n",
    "#extra_people > object > float32\n",
    "base_airbnb['extra_people'] = base_airbnb['extra_people'].str.replace('$', '')\n",
    "base_airbnb['extra_people'] = base_airbnb['extra_people'].str.replace(',', '')\n",
    "base_airbnb['extra_people'] = base_airbnb['extra_people'].astype(np.float32, copy=False)\n",
    "\n",
    "print(base_airbnb.dtypes)"
   ]
  },
  {
   "cell_type": "code",
   "execution_count": 17,
   "id": "148e8682",
   "metadata": {},
   "outputs": [],
   "source": [
    "# Exportar a base limpa\n",
    "\n",
    "base_airbnb.to_csv('base_airbnb_final.csv',sep=';')"
   ]
  },
  {
   "cell_type": "code",
   "execution_count": 107,
   "id": "ad7cd278",
   "metadata": {},
   "outputs": [],
   "source": [
    "base_airbnb_final = pd.read_csv(r'base_airbnb_final.csv', sep=';')"
   ]
  },
  {
   "cell_type": "code",
   "execution_count": 108,
   "id": "07f49759",
   "metadata": {},
   "outputs": [
    {
     "data": {
      "text/html": [
       "<div>\n",
       "<style scoped>\n",
       "    .dataframe tbody tr th:only-of-type {\n",
       "        vertical-align: middle;\n",
       "    }\n",
       "\n",
       "    .dataframe tbody tr th {\n",
       "        vertical-align: top;\n",
       "    }\n",
       "\n",
       "    .dataframe thead th {\n",
       "        text-align: right;\n",
       "    }\n",
       "</style>\n",
       "<table border=\"1\" class=\"dataframe\">\n",
       "  <thead>\n",
       "    <tr style=\"text-align: right;\">\n",
       "      <th></th>\n",
       "      <th>Unnamed: 0</th>\n",
       "      <th>host_is_superhost</th>\n",
       "      <th>host_listings_count</th>\n",
       "      <th>latitude</th>\n",
       "      <th>longitude</th>\n",
       "      <th>property_type</th>\n",
       "      <th>room_type</th>\n",
       "      <th>accommodates</th>\n",
       "      <th>bathrooms</th>\n",
       "      <th>bedrooms</th>\n",
       "      <th>...</th>\n",
       "      <th>guests_included</th>\n",
       "      <th>extra_people</th>\n",
       "      <th>minimum_nights</th>\n",
       "      <th>maximum_nights</th>\n",
       "      <th>number_of_reviews</th>\n",
       "      <th>instant_bookable</th>\n",
       "      <th>is_business_travel_ready</th>\n",
       "      <th>cancellation_policy</th>\n",
       "      <th>ano</th>\n",
       "      <th>mes</th>\n",
       "    </tr>\n",
       "  </thead>\n",
       "  <tbody>\n",
       "    <tr>\n",
       "      <th>0</th>\n",
       "      <td>0</td>\n",
       "      <td>f</td>\n",
       "      <td>1.0</td>\n",
       "      <td>-22.946854</td>\n",
       "      <td>-43.182737</td>\n",
       "      <td>Apartment</td>\n",
       "      <td>Entire home/apt</td>\n",
       "      <td>4</td>\n",
       "      <td>1.0</td>\n",
       "      <td>0.0</td>\n",
       "      <td>...</td>\n",
       "      <td>2</td>\n",
       "      <td>34.0</td>\n",
       "      <td>60</td>\n",
       "      <td>365</td>\n",
       "      <td>38</td>\n",
       "      <td>f</td>\n",
       "      <td>f</td>\n",
       "      <td>strict_14_with_grace_period</td>\n",
       "      <td>2018</td>\n",
       "      <td>4</td>\n",
       "    </tr>\n",
       "    <tr>\n",
       "      <th>1</th>\n",
       "      <td>1</td>\n",
       "      <td>t</td>\n",
       "      <td>2.0</td>\n",
       "      <td>-22.965919</td>\n",
       "      <td>-43.178962</td>\n",
       "      <td>Condominium</td>\n",
       "      <td>Entire home/apt</td>\n",
       "      <td>5</td>\n",
       "      <td>1.0</td>\n",
       "      <td>2.0</td>\n",
       "      <td>...</td>\n",
       "      <td>2</td>\n",
       "      <td>51.0</td>\n",
       "      <td>4</td>\n",
       "      <td>90</td>\n",
       "      <td>205</td>\n",
       "      <td>t</td>\n",
       "      <td>f</td>\n",
       "      <td>strict</td>\n",
       "      <td>2018</td>\n",
       "      <td>4</td>\n",
       "    </tr>\n",
       "    <tr>\n",
       "      <th>2</th>\n",
       "      <td>2</td>\n",
       "      <td>f</td>\n",
       "      <td>1.0</td>\n",
       "      <td>-22.985698</td>\n",
       "      <td>-43.201935</td>\n",
       "      <td>Apartment</td>\n",
       "      <td>Entire home/apt</td>\n",
       "      <td>2</td>\n",
       "      <td>1.0</td>\n",
       "      <td>1.0</td>\n",
       "      <td>...</td>\n",
       "      <td>2</td>\n",
       "      <td>215.0</td>\n",
       "      <td>3</td>\n",
       "      <td>90</td>\n",
       "      <td>85</td>\n",
       "      <td>f</td>\n",
       "      <td>f</td>\n",
       "      <td>strict</td>\n",
       "      <td>2018</td>\n",
       "      <td>4</td>\n",
       "    </tr>\n",
       "    <tr>\n",
       "      <th>3</th>\n",
       "      <td>3</td>\n",
       "      <td>f</td>\n",
       "      <td>3.0</td>\n",
       "      <td>-22.977117</td>\n",
       "      <td>-43.190454</td>\n",
       "      <td>Apartment</td>\n",
       "      <td>Entire home/apt</td>\n",
       "      <td>3</td>\n",
       "      <td>1.0</td>\n",
       "      <td>1.0</td>\n",
       "      <td>...</td>\n",
       "      <td>2</td>\n",
       "      <td>45.0</td>\n",
       "      <td>4</td>\n",
       "      <td>30</td>\n",
       "      <td>208</td>\n",
       "      <td>f</td>\n",
       "      <td>f</td>\n",
       "      <td>strict</td>\n",
       "      <td>2018</td>\n",
       "      <td>4</td>\n",
       "    </tr>\n",
       "    <tr>\n",
       "      <th>4</th>\n",
       "      <td>4</td>\n",
       "      <td>t</td>\n",
       "      <td>1.0</td>\n",
       "      <td>-22.983024</td>\n",
       "      <td>-43.214270</td>\n",
       "      <td>Apartment</td>\n",
       "      <td>Entire home/apt</td>\n",
       "      <td>3</td>\n",
       "      <td>1.0</td>\n",
       "      <td>1.0</td>\n",
       "      <td>...</td>\n",
       "      <td>2</td>\n",
       "      <td>68.0</td>\n",
       "      <td>2</td>\n",
       "      <td>1125</td>\n",
       "      <td>200</td>\n",
       "      <td>t</td>\n",
       "      <td>f</td>\n",
       "      <td>strict</td>\n",
       "      <td>2018</td>\n",
       "      <td>4</td>\n",
       "    </tr>\n",
       "    <tr>\n",
       "      <th>...</th>\n",
       "      <td>...</td>\n",
       "      <td>...</td>\n",
       "      <td>...</td>\n",
       "      <td>...</td>\n",
       "      <td>...</td>\n",
       "      <td>...</td>\n",
       "      <td>...</td>\n",
       "      <td>...</td>\n",
       "      <td>...</td>\n",
       "      <td>...</td>\n",
       "      <td>...</td>\n",
       "      <td>...</td>\n",
       "      <td>...</td>\n",
       "      <td>...</td>\n",
       "      <td>...</td>\n",
       "      <td>...</td>\n",
       "      <td>...</td>\n",
       "      <td>...</td>\n",
       "      <td>...</td>\n",
       "      <td>...</td>\n",
       "      <td>...</td>\n",
       "    </tr>\n",
       "    <tr>\n",
       "      <th>902205</th>\n",
       "      <td>34324</td>\n",
       "      <td>f</td>\n",
       "      <td>0.0</td>\n",
       "      <td>-23.003180</td>\n",
       "      <td>-43.342840</td>\n",
       "      <td>Apartment</td>\n",
       "      <td>Entire home/apt</td>\n",
       "      <td>4</td>\n",
       "      <td>1.0</td>\n",
       "      <td>0.0</td>\n",
       "      <td>...</td>\n",
       "      <td>2</td>\n",
       "      <td>50.0</td>\n",
       "      <td>1</td>\n",
       "      <td>1125</td>\n",
       "      <td>0</td>\n",
       "      <td>f</td>\n",
       "      <td>f</td>\n",
       "      <td>flexible</td>\n",
       "      <td>2019</td>\n",
       "      <td>9</td>\n",
       "    </tr>\n",
       "    <tr>\n",
       "      <th>902206</th>\n",
       "      <td>34325</td>\n",
       "      <td>f</td>\n",
       "      <td>0.0</td>\n",
       "      <td>-22.966640</td>\n",
       "      <td>-43.393450</td>\n",
       "      <td>Apartment</td>\n",
       "      <td>Entire home/apt</td>\n",
       "      <td>4</td>\n",
       "      <td>2.0</td>\n",
       "      <td>2.0</td>\n",
       "      <td>...</td>\n",
       "      <td>1</td>\n",
       "      <td>0.0</td>\n",
       "      <td>2</td>\n",
       "      <td>1125</td>\n",
       "      <td>0</td>\n",
       "      <td>f</td>\n",
       "      <td>f</td>\n",
       "      <td>flexible</td>\n",
       "      <td>2019</td>\n",
       "      <td>9</td>\n",
       "    </tr>\n",
       "    <tr>\n",
       "      <th>902207</th>\n",
       "      <td>34326</td>\n",
       "      <td>f</td>\n",
       "      <td>32.0</td>\n",
       "      <td>-22.962080</td>\n",
       "      <td>-43.175520</td>\n",
       "      <td>Apartment</td>\n",
       "      <td>Entire home/apt</td>\n",
       "      <td>5</td>\n",
       "      <td>1.0</td>\n",
       "      <td>1.0</td>\n",
       "      <td>...</td>\n",
       "      <td>3</td>\n",
       "      <td>30.0</td>\n",
       "      <td>3</td>\n",
       "      <td>1125</td>\n",
       "      <td>0</td>\n",
       "      <td>f</td>\n",
       "      <td>f</td>\n",
       "      <td>strict_14_with_grace_period</td>\n",
       "      <td>2019</td>\n",
       "      <td>9</td>\n",
       "    </tr>\n",
       "    <tr>\n",
       "      <th>902208</th>\n",
       "      <td>34327</td>\n",
       "      <td>f</td>\n",
       "      <td>0.0</td>\n",
       "      <td>-23.003400</td>\n",
       "      <td>-43.341820</td>\n",
       "      <td>Apartment</td>\n",
       "      <td>Entire home/apt</td>\n",
       "      <td>4</td>\n",
       "      <td>1.0</td>\n",
       "      <td>1.0</td>\n",
       "      <td>...</td>\n",
       "      <td>1</td>\n",
       "      <td>0.0</td>\n",
       "      <td>1</td>\n",
       "      <td>1125</td>\n",
       "      <td>0</td>\n",
       "      <td>f</td>\n",
       "      <td>f</td>\n",
       "      <td>strict_14_with_grace_period</td>\n",
       "      <td>2019</td>\n",
       "      <td>9</td>\n",
       "    </tr>\n",
       "    <tr>\n",
       "      <th>902209</th>\n",
       "      <td>34328</td>\n",
       "      <td>f</td>\n",
       "      <td>5.0</td>\n",
       "      <td>-23.010560</td>\n",
       "      <td>-43.363350</td>\n",
       "      <td>Apartment</td>\n",
       "      <td>Private room</td>\n",
       "      <td>2</td>\n",
       "      <td>0.0</td>\n",
       "      <td>1.0</td>\n",
       "      <td>...</td>\n",
       "      <td>2</td>\n",
       "      <td>80.0</td>\n",
       "      <td>1</td>\n",
       "      <td>30</td>\n",
       "      <td>0</td>\n",
       "      <td>f</td>\n",
       "      <td>f</td>\n",
       "      <td>strict_14_with_grace_period</td>\n",
       "      <td>2019</td>\n",
       "      <td>9</td>\n",
       "    </tr>\n",
       "  </tbody>\n",
       "</table>\n",
       "<p>902210 rows × 24 columns</p>\n",
       "</div>"
      ],
      "text/plain": [
       "        Unnamed: 0 host_is_superhost  host_listings_count   latitude  \\\n",
       "0                0                 f                  1.0 -22.946854   \n",
       "1                1                 t                  2.0 -22.965919   \n",
       "2                2                 f                  1.0 -22.985698   \n",
       "3                3                 f                  3.0 -22.977117   \n",
       "4                4                 t                  1.0 -22.983024   \n",
       "...            ...               ...                  ...        ...   \n",
       "902205       34324                 f                  0.0 -23.003180   \n",
       "902206       34325                 f                  0.0 -22.966640   \n",
       "902207       34326                 f                 32.0 -22.962080   \n",
       "902208       34327                 f                  0.0 -23.003400   \n",
       "902209       34328                 f                  5.0 -23.010560   \n",
       "\n",
       "        longitude property_type        room_type  accommodates  bathrooms  \\\n",
       "0      -43.182737     Apartment  Entire home/apt             4        1.0   \n",
       "1      -43.178962   Condominium  Entire home/apt             5        1.0   \n",
       "2      -43.201935     Apartment  Entire home/apt             2        1.0   \n",
       "3      -43.190454     Apartment  Entire home/apt             3        1.0   \n",
       "4      -43.214270     Apartment  Entire home/apt             3        1.0   \n",
       "...           ...           ...              ...           ...        ...   \n",
       "902205 -43.342840     Apartment  Entire home/apt             4        1.0   \n",
       "902206 -43.393450     Apartment  Entire home/apt             4        2.0   \n",
       "902207 -43.175520     Apartment  Entire home/apt             5        1.0   \n",
       "902208 -43.341820     Apartment  Entire home/apt             4        1.0   \n",
       "902209 -43.363350     Apartment     Private room             2        0.0   \n",
       "\n",
       "        bedrooms  ...  guests_included extra_people minimum_nights  \\\n",
       "0            0.0  ...                2         34.0             60   \n",
       "1            2.0  ...                2         51.0              4   \n",
       "2            1.0  ...                2        215.0              3   \n",
       "3            1.0  ...                2         45.0              4   \n",
       "4            1.0  ...                2         68.0              2   \n",
       "...          ...  ...              ...          ...            ...   \n",
       "902205       0.0  ...                2         50.0              1   \n",
       "902206       2.0  ...                1          0.0              2   \n",
       "902207       1.0  ...                3         30.0              3   \n",
       "902208       1.0  ...                1          0.0              1   \n",
       "902209       1.0  ...                2         80.0              1   \n",
       "\n",
       "        maximum_nights  number_of_reviews  instant_bookable  \\\n",
       "0                  365                 38                 f   \n",
       "1                   90                205                 t   \n",
       "2                   90                 85                 f   \n",
       "3                   30                208                 f   \n",
       "4                 1125                200                 t   \n",
       "...                ...                ...               ...   \n",
       "902205            1125                  0                 f   \n",
       "902206            1125                  0                 f   \n",
       "902207            1125                  0                 f   \n",
       "902208            1125                  0                 f   \n",
       "902209              30                  0                 f   \n",
       "\n",
       "        is_business_travel_ready          cancellation_policy   ano mes  \n",
       "0                              f  strict_14_with_grace_period  2018   4  \n",
       "1                              f                       strict  2018   4  \n",
       "2                              f                       strict  2018   4  \n",
       "3                              f                       strict  2018   4  \n",
       "4                              f                       strict  2018   4  \n",
       "...                          ...                          ...   ...  ..  \n",
       "902205                         f                     flexible  2019   9  \n",
       "902206                         f                     flexible  2019   9  \n",
       "902207                         f  strict_14_with_grace_period  2019   9  \n",
       "902208                         f  strict_14_with_grace_period  2019   9  \n",
       "902209                         f  strict_14_with_grace_period  2019   9  \n",
       "\n",
       "[902210 rows x 24 columns]"
      ]
     },
     "metadata": {},
     "output_type": "display_data"
    }
   ],
   "source": [
    "display(base_airbnb_final)"
   ]
  },
  {
   "cell_type": "code",
   "execution_count": 109,
   "id": "378df511",
   "metadata": {},
   "outputs": [
    {
     "data": {
      "text/plain": [
       "<AxesSubplot:>"
      ]
     },
     "execution_count": 109,
     "metadata": {},
     "output_type": "execute_result"
    },
    {
     "data": {
      "image/png": "[encoded data removed]",
      "text/plain": [
       "<Figure size 1080x720 with 2 Axes>"
      ]
     },
     "metadata": {
      "needs_background": "light"
     },
     "output_type": "display_data"
    }
   ],
   "source": [
    "# Definir tamanho do gráfico\n",
    "plt.figure(figsize=(15,10))\n",
    "\n",
    "# Plotagem\n",
    "sns.heatmap(base_airbnb_final.corr(), annot=True, cmap='Reds')\n"
   ]
  },
  {
   "cell_type": "markdown",
   "id": "ebb5276e",
   "metadata": {},
   "source": [
    "### Definição de função para determinar os limites (Análise de Outliers)"
   ]
  },
  {
   "cell_type": "code",
   "execution_count": 110,
   "id": "0baac1fc",
   "metadata": {},
   "outputs": [],
   "source": [
    "def limite(coluna):\n",
    "    q1 = coluna.quantile(0.25)\n",
    "    q3 = coluna.quantile(0.75)\n",
    "    amplitude = q3 - q1\n",
    "    return q1 - 1.5 * amplitude, q3 + 1.5 * amplitude\n",
    "\n",
    "def excluir_outliers(df, nome_coluna):\n",
    "    '''\n",
    "    Recebe um dataframe e a coluna a ser removido os outliers,\n",
    "    Importante analisar o contexto e parâmetros da coluna antes da exclusão.\n",
    "    \n",
    "    '''\n",
    "       \n",
    "    # shape retorna uma tupla (linhas, coluna)\n",
    "    qtd_linhas = df.shape[0]\n",
    "    \n",
    "    # limites() retorna uma tupla(limite inferior da coluna, superior da coluna)\n",
    "    lim_inf, lim_sup = limite(df[nome_coluna])\n",
    "    \n",
    "    # extrai as linhas que atende a condição e todas as colunas\n",
    "    df = df.loc[(df[nome_coluna] >= lim_inf) & (df[nome_coluna] <= lim_sup), :]\n",
    "    \n",
    "    # linhas removidas\n",
    "    linhas_removidas = qtd_linhas - df.shape[0]\n",
    "    \n",
    "    return df, '{} linhas removidas'.format(linhas_removidas)"
   ]
  },
  {
   "cell_type": "code",
   "execution_count": 111,
   "id": "39995116",
   "metadata": {},
   "outputs": [
    {
     "name": "stdout",
     "output_type": "stream",
     "text": [
      "(-524.0, 1276.0)\n",
      "(-0.5, 3.5)\n",
      "(-0.5, 3.5)\n"
     ]
    }
   ],
   "source": [
    "print(limite(base_airbnb_final['price']))\n",
    "print(limite(base_airbnb_final['bedrooms']))\n",
    "print(limite(base_airbnb_final['bathrooms']))"
   ]
  },
  {
   "cell_type": "code",
   "execution_count": 112,
   "id": "71671b69",
   "metadata": {},
   "outputs": [
    {
     "name": "stdout",
     "output_type": "stream",
     "text": [
      "count    902210.000000\n",
      "mean        647.605448\n",
      "std        1704.745062\n",
      "min           0.000000\n",
      "25%         151.000000\n",
      "50%         296.000000\n",
      "75%         601.000000\n",
      "max      138288.000000\n",
      "Name: price, dtype: float64\n",
      "************************************************************\n",
      "-524.0 1276.0\n"
     ]
    }
   ],
   "source": [
    "print(base_airbnb_final['price'].describe())\n",
    "# Mesma coisa que:\n",
    "print('*'*60)\n",
    "print(151 - 1.5 * (601-151),601 + 1.5 * (601-151))"
   ]
  },
  {
   "cell_type": "code",
   "execution_count": 113,
   "id": "50e518b1",
   "metadata": {},
   "outputs": [],
   "source": [
    "def diagrama_caixa(coluna):\n",
    "    '''\n",
    "    Recebe uma coluna de dataframe ou qualquer e cria dois gráficos de boxplot\n",
    "    ax1 = Primeira coluna e gráfico 1, sem limite de eixo;\n",
    "    ax2 = Segunda coluna e gráfico 2, com os limites da coluna retornados pela function \"Limite()\"\n",
    "    \n",
    "    '''\n",
    "    # Plotagem de gráfico 1 linha x 2 colunas\n",
    "    fig, (ax1, ax2) = plt.subplots(1,2)\n",
    "    fig.set_size_inches(15,5)\n",
    "    \n",
    "    sns.boxplot(x=coluna, ax=ax1)\n",
    "    \n",
    "    ax2.set_xlim(limite(coluna))\n",
    "    sns.boxplot(x=coluna, ax=ax2)\n",
    "    \n",
    "def histograma(coluna):\n",
    "    '''\n",
    "    Recebe uma coluna de dataframe ou qualquer e cria um gráfico de histograma\n",
    "    \n",
    "    '''\n",
    "    plt.figure(figsize=(25,5))\n",
    "    sns.distplot(coluna,hist=True)\n",
    "    \n",
    "    #sns.histplot(x=coluna, kde=True)\n",
    "    \n",
    "def grafico_barra(coluna):\n",
    "    '''\n",
    "    Recebe uma coluna de dataframe ou qualquer e cria um gráfico de barras\n",
    "    Eixo x recebe os index de contagem da coluna (1,2,3,4...)\n",
    "    Eixo y recebe o filtro/resumo/contagem dos itens por index\n",
    "    ax.set_xlim chama a função de limite e atribui aos limites da coluna (inferior, superior)\n",
    "    \n",
    "    '''\n",
    "    plt.figure(figsize=(15,5))\n",
    "    ax = sns.barplot(x=coluna.value_counts().index,y=coluna.value_counts())   \n",
    "    ax.set_xlim(limite(coluna))"
   ]
  },
  {
   "cell_type": "markdown",
   "id": "173853d1",
   "metadata": {},
   "source": [
    "### Price\n"
   ]
  },
  {
   "cell_type": "code",
   "execution_count": 114,
   "id": "fd3e9c6a",
   "metadata": {},
   "outputs": [
    {
     "data": {
      "image/png": "[encoded data removed]",
      "text/plain": [
       "<Figure size 1080x360 with 2 Axes>"
      ]
     },
     "metadata": {
      "needs_background": "light"
     },
     "output_type": "display_data"
    }
   ],
   "source": [
    "diagrama_caixa(base_airbnb_final['price'])"
   ]
  },
  {
   "cell_type": "code",
   "execution_count": 115,
   "id": "806aad37",
   "metadata": {},
   "outputs": [
    {
     "name": "stderr",
     "output_type": "stream",
     "text": [
      "E:\\Anaconda3\\lib\\site-packages\\seaborn\\distributions.py:2619: FutureWarning: `distplot` is a deprecated function and will be removed in a future version. Please adapt your code to use either `displot` (a figure-level function with similar flexibility) or `histplot` (an axes-level function for histograms).\n",
      "  warnings.warn(msg, FutureWarning)\n"
     ]
    },
    {
     "data": {
      "image/png": "[encoded data removed]",
      "text/plain": [
       "<Figure size 1800x360 with 1 Axes>"
      ]
     },
     "metadata": {
      "needs_background": "light"
     },
     "output_type": "display_data"
    }
   ],
   "source": [
    "histograma(base_airbnb_final['price'])"
   ]
  },
  {
   "cell_type": "code",
   "execution_count": 116,
   "id": "82bcbcc4",
   "metadata": {},
   "outputs": [
    {
     "data": {
      "text/plain": [
       "'87575 linhas removidas'"
      ]
     },
     "execution_count": 116,
     "metadata": {},
     "output_type": "execute_result"
    }
   ],
   "source": [
    "base_airbnb_final, linhas_removidas = excluir_outliers(base_airbnb_final,'price')\n",
    "linhas_removidas"
   ]
  },
  {
   "cell_type": "code",
   "execution_count": 117,
   "id": "98f50d84",
   "metadata": {},
   "outputs": [
    {
     "name": "stderr",
     "output_type": "stream",
     "text": [
      "E:\\Anaconda3\\lib\\site-packages\\seaborn\\distributions.py:2619: FutureWarning: `distplot` is a deprecated function and will be removed in a future version. Please adapt your code to use either `displot` (a figure-level function with similar flexibility) or `histplot` (an axes-level function for histograms).\n",
      "  warnings.warn(msg, FutureWarning)\n"
     ]
    },
    {
     "data": {
      "image/png": "[encoded data removed]",
      "text/plain": [
       "<Figure size 1800x360 with 1 Axes>"
      ]
     },
     "metadata": {
      "needs_background": "light"
     },
     "output_type": "display_data"
    }
   ],
   "source": [
    "histograma(base_airbnb_final['price'])"
   ]
  },
  {
   "cell_type": "markdown",
   "id": "80b8df68",
   "metadata": {},
   "source": [
    "### Extra-people"
   ]
  },
  {
   "cell_type": "code",
   "execution_count": 118,
   "id": "e660c15f",
   "metadata": {},
   "outputs": [
    {
     "data": {
      "text/plain": [
       "'59373 linhas removidas'"
      ]
     },
     "execution_count": 118,
     "metadata": {},
     "output_type": "execute_result"
    }
   ],
   "source": [
    "base_airbnb_final, linhas_removidas = excluir_outliers(base_airbnb_final,'extra_people')\n",
    "linhas_removidas"
   ]
  },
  {
   "cell_type": "code",
   "execution_count": 119,
   "id": "cccec142",
   "metadata": {},
   "outputs": [
    {
     "data": {
      "image/png": "[encoded data removed]",
      "text/plain": [
       "<Figure size 1080x360 with 2 Axes>"
      ]
     },
     "metadata": {
      "needs_background": "light"
     },
     "output_type": "display_data"
    }
   ],
   "source": [
    "diagrama_caixa(base_airbnb_final['extra_people'])"
   ]
  },
  {
   "cell_type": "code",
   "execution_count": 120,
   "id": "943531c1",
   "metadata": {},
   "outputs": [
    {
     "name": "stderr",
     "output_type": "stream",
     "text": [
      "E:\\Anaconda3\\lib\\site-packages\\seaborn\\distributions.py:2619: FutureWarning: `distplot` is a deprecated function and will be removed in a future version. Please adapt your code to use either `displot` (a figure-level function with similar flexibility) or `histplot` (an axes-level function for histograms).\n",
      "  warnings.warn(msg, FutureWarning)\n"
     ]
    },
    {
     "data": {
      "image/png": "[encoded data removed]",
      "text/plain": [
       "<Figure size 1800x360 with 1 Axes>"
      ]
     },
     "metadata": {
      "needs_background": "light"
     },
     "output_type": "display_data"
    }
   ],
   "source": [
    "histograma(base_airbnb_final['extra_people'])"
   ]
  },
  {
   "cell_type": "markdown",
   "id": "25cf8a99",
   "metadata": {},
   "source": [
    "### host_listings_count"
   ]
  },
  {
   "cell_type": "code",
   "execution_count": 121,
   "id": "41fca1a6",
   "metadata": {},
   "outputs": [
    {
     "data": {
      "image/png": "[encoded data removed]",
      "text/plain": [
       "<Figure size 1080x360 with 2 Axes>"
      ]
     },
     "metadata": {
      "needs_background": "light"
     },
     "output_type": "display_data"
    },
    {
     "data": {
      "image/png": "[encoded data removed]",
      "text/plain": [
       "<Figure size 1080x360 with 1 Axes>"
      ]
     },
     "metadata": {
      "needs_background": "light"
     },
     "output_type": "display_data"
    }
   ],
   "source": [
    "diagrama_caixa(base_airbnb_final['host_listings_count'])\n",
    "grafico_barra(base_airbnb_final['host_listings_count'])"
   ]
  },
  {
   "cell_type": "markdown",
   "id": "fdad4022",
   "metadata": {},
   "source": [
    "Excluiremos os outliers, devivo o objetivo do projeto ser o público alvo menor, comum."
   ]
  },
  {
   "cell_type": "code",
   "execution_count": 122,
   "id": "a8fe193d",
   "metadata": {},
   "outputs": [
    {
     "data": {
      "text/plain": [
       "'98749 linhas removidas'"
      ]
     },
     "execution_count": 122,
     "metadata": {},
     "output_type": "execute_result"
    }
   ],
   "source": [
    "base_airbnb_final, linhas_removidas = excluir_outliers(base_airbnb_final,'host_listings_count')\n",
    "linhas_removidas"
   ]
  },
  {
   "cell_type": "code",
   "execution_count": 123,
   "id": "33ebc9bf",
   "metadata": {},
   "outputs": [
    {
     "data": {
      "image/png": "[encoded data removed]",
      "text/plain": [
       "<Figure size 1080x360 with 2 Axes>"
      ]
     },
     "metadata": {
      "needs_background": "light"
     },
     "output_type": "display_data"
    },
    {
     "data": {
      "image/png": "[encoded data removed]",
      "text/plain": [
       "<Figure size 1080x360 with 1 Axes>"
      ]
     },
     "metadata": {
      "needs_background": "light"
     },
     "output_type": "display_data"
    }
   ],
   "source": [
    "diagrama_caixa(base_airbnb_final['host_listings_count'])\n",
    "grafico_barra(base_airbnb_final['host_listings_count'])"
   ]
  },
  {
   "cell_type": "markdown",
   "id": "66976200",
   "metadata": {},
   "source": [
    "### Accomodates"
   ]
  },
  {
   "cell_type": "code",
   "execution_count": 124,
   "id": "b8c647bc",
   "metadata": {},
   "outputs": [
    {
     "data": {
      "image/png": "[encoded data removed]",
      "text/plain": [
       "<Figure size 1080x360 with 2 Axes>"
      ]
     },
     "metadata": {
      "needs_background": "light"
     },
     "output_type": "display_data"
    },
    {
     "data": {
      "image/png": "[encoded data removed]",
      "text/plain": [
       "<Figure size 1080x360 with 1 Axes>"
      ]
     },
     "metadata": {
      "needs_background": "light"
     },
     "output_type": "display_data"
    }
   ],
   "source": [
    "diagrama_caixa(base_airbnb_final['accommodates'])\n",
    "grafico_barra(base_airbnb_final['accommodates'])"
   ]
  },
  {
   "cell_type": "code",
   "execution_count": 125,
   "id": "ba3646ba",
   "metadata": {},
   "outputs": [
    {
     "data": {
      "text/plain": [
       "'13183 linhas removidas'"
      ]
     },
     "execution_count": 125,
     "metadata": {},
     "output_type": "execute_result"
    }
   ],
   "source": [
    "base_airbnb_final, linhas_removidas = excluir_outliers(base_airbnb_final,'accommodates')\n",
    "linhas_removidas\n",
    "\n",
    "# Devido a quantidade de pessoas acomodadas, como o objetivo é padrão comum (baixo) \n",
    "# não será analizado essa dimensão de quantidade de pessoas"
   ]
  },
  {
   "cell_type": "code",
   "execution_count": 126,
   "id": "5edd81b2",
   "metadata": {},
   "outputs": [
    {
     "data": {
      "image/png": "[encoded data removed]",
      "text/plain": [
       "<Figure size 1080x360 with 2 Axes>"
      ]
     },
     "metadata": {
      "needs_background": "light"
     },
     "output_type": "display_data"
    },
    {
     "data": {
      "image/png": "[encoded data removed]",
      "text/plain": [
       "<Figure size 1080x360 with 1 Axes>"
      ]
     },
     "metadata": {
      "needs_background": "light"
     },
     "output_type": "display_data"
    }
   ],
   "source": [
    "diagrama_caixa(base_airbnb_final['accommodates'])\n",
    "grafico_barra(base_airbnb_final['accommodates'])"
   ]
  },
  {
   "cell_type": "markdown",
   "id": "56fc74c6",
   "metadata": {},
   "source": [
    "### Bathrooms"
   ]
  },
  {
   "cell_type": "code",
   "execution_count": 127,
   "id": "4daa5241",
   "metadata": {},
   "outputs": [
    {
     "data": {
      "text/plain": [
       "'8131 linhas removidas'"
      ]
     },
     "execution_count": 127,
     "metadata": {},
     "output_type": "execute_result"
    }
   ],
   "source": [
    "base_airbnb_final, linhas_removidas = excluir_outliers(base_airbnb_final,'bathrooms')\n",
    "linhas_removidas"
   ]
  },
  {
   "cell_type": "code",
   "execution_count": 128,
   "id": "b7d4e02e",
   "metadata": {},
   "outputs": [
    {
     "data": {
      "text/plain": [
       "<AxesSubplot:ylabel='bathrooms'>"
      ]
     },
     "execution_count": 128,
     "metadata": {},
     "output_type": "execute_result"
    },
    {
     "data": {
      "image/png": "[encoded data removed]",
      "text/plain": [
       "<Figure size 1080x360 with 2 Axes>"
      ]
     },
     "metadata": {
      "needs_background": "light"
     },
     "output_type": "display_data"
    },
    {
     "data": {
      "image/png": "[encoded data removed]",
      "text/plain": [
       "<Figure size 1080x360 with 1 Axes>"
      ]
     },
     "metadata": {
      "needs_background": "light"
     },
     "output_type": "display_data"
    }
   ],
   "source": [
    "diagrama_caixa(base_airbnb_final['bathrooms'])\n",
    "plt.figure(figsize=(15,5))\n",
    "sns.barplot(x=base_airbnb_final['bathrooms'].value_counts().index, y=base_airbnb_final['bathrooms'].value_counts())"
   ]
  },
  {
   "cell_type": "markdown",
   "id": "ebf884c9",
   "metadata": {},
   "source": [
    "### Bedrooms"
   ]
  },
  {
   "cell_type": "code",
   "execution_count": 129,
   "id": "a009e08c",
   "metadata": {},
   "outputs": [
    {
     "data": {
      "image/png": "[encoded data removed]",
      "text/plain": [
       "<Figure size 1080x360 with 2 Axes>"
      ]
     },
     "metadata": {
      "needs_background": "light"
     },
     "output_type": "display_data"
    },
    {
     "data": {
      "image/png": "[encoded data removed]",
      "text/plain": [
       "<Figure size 1080x360 with 1 Axes>"
      ]
     },
     "metadata": {
      "needs_background": "light"
     },
     "output_type": "display_data"
    }
   ],
   "source": [
    "diagrama_caixa(base_airbnb_final['bedrooms'])\n",
    "grafico_barra(base_airbnb_final['bedrooms'])"
   ]
  },
  {
   "cell_type": "code",
   "execution_count": 130,
   "id": "c3241136",
   "metadata": {},
   "outputs": [
    {
     "data": {
      "text/plain": [
       "'6043 linhas removidas'"
      ]
     },
     "execution_count": 130,
     "metadata": {},
     "output_type": "execute_result"
    }
   ],
   "source": [
    "base_airbnb_final, linhas_removidas = excluir_outliers(base_airbnb_final,'bedrooms')\n",
    "linhas_removidas"
   ]
  },
  {
   "cell_type": "code",
   "execution_count": 131,
   "id": "0d1bba80",
   "metadata": {},
   "outputs": [
    {
     "data": {
      "image/png": "[encoded data removed]",
      "text/plain": [
       "<Figure size 1080x360 with 2 Axes>"
      ]
     },
     "metadata": {
      "needs_background": "light"
     },
     "output_type": "display_data"
    },
    {
     "data": {
      "image/png": "[encoded data removed]",
      "text/plain": [
       "<Figure size 1080x360 with 1 Axes>"
      ]
     },
     "metadata": {
      "needs_background": "light"
     },
     "output_type": "display_data"
    }
   ],
   "source": [
    "diagrama_caixa(base_airbnb_final['bedrooms'])\n",
    "grafico_barra(base_airbnb_final['bedrooms'])"
   ]
  },
  {
   "cell_type": "markdown",
   "id": "9d719d4f",
   "metadata": {},
   "source": [
    "### Beds"
   ]
  },
  {
   "cell_type": "code",
   "execution_count": 132,
   "id": "5001270f",
   "metadata": {},
   "outputs": [
    {
     "data": {
      "image/png": "[encoded data removed]",
      "text/plain": [
       "<Figure size 1080x360 with 2 Axes>"
      ]
     },
     "metadata": {
      "needs_background": "light"
     },
     "output_type": "display_data"
    },
    {
     "data": {
      "image/png": "[encoded data removed]",
      "text/plain": [
       "<Figure size 1080x360 with 1 Axes>"
      ]
     },
     "metadata": {
      "needs_background": "light"
     },
     "output_type": "display_data"
    }
   ],
   "source": [
    "diagrama_caixa(base_airbnb_final['beds'])\n",
    "grafico_barra(base_airbnb_final['beds'])"
   ]
  },
  {
   "cell_type": "code",
   "execution_count": 133,
   "id": "e522b3f6",
   "metadata": {},
   "outputs": [
    {
     "data": {
      "text/plain": [
       "'6790 linhas removidas'"
      ]
     },
     "execution_count": 133,
     "metadata": {},
     "output_type": "execute_result"
    }
   ],
   "source": [
    "base_airbnb_final, linhas_removidas = excluir_outliers(base_airbnb_final,'beds')\n",
    "linhas_removidas"
   ]
  },
  {
   "cell_type": "code",
   "execution_count": 134,
   "id": "3192155f",
   "metadata": {},
   "outputs": [
    {
     "data": {
      "image/png": "[encoded data removed]",
      "text/plain": [
       "<Figure size 1080x360 with 2 Axes>"
      ]
     },
     "metadata": {
      "needs_background": "light"
     },
     "output_type": "display_data"
    },
    {
     "data": {
      "image/png": "[encoded data removed]",
      "text/plain": [
       "<Figure size 1080x360 with 1 Axes>"
      ]
     },
     "metadata": {
      "needs_background": "light"
     },
     "output_type": "display_data"
    }
   ],
   "source": [
    "diagrama_caixa(base_airbnb_final['beds'])\n",
    "grafico_barra(base_airbnb_final['beds'])"
   ]
  },
  {
   "cell_type": "markdown",
   "id": "fdbeb4b0",
   "metadata": {},
   "source": [
    "### Guests_included"
   ]
  },
  {
   "cell_type": "code",
   "execution_count": 135,
   "id": "fe860729",
   "metadata": {},
   "outputs": [
    {
     "name": "stderr",
     "output_type": "stream",
     "text": [
      "C:\\Users\\alber\\AppData\\Local\\Temp\\ipykernel_13456\\1383280524.py:14: UserWarning: Attempting to set identical left == right == 1.0 results in singular transformations; automatically expanding.\n",
      "  ax2.set_xlim(limite(coluna))\n",
      "C:\\Users\\alber\\AppData\\Local\\Temp\\ipykernel_13456\\1383280524.py:37: UserWarning: Attempting to set identical left == right == 1.0 results in singular transformations; automatically expanding.\n",
      "  ax.set_xlim(limite(coluna))\n"
     ]
    },
    {
     "data": {
      "image/png": "[encoded data removed]",
      "text/plain": [
       "<Figure size 1080x360 with 2 Axes>"
      ]
     },
     "metadata": {
      "needs_background": "light"
     },
     "output_type": "display_data"
    },
    {
     "data": {
      "image/png": "[encoded data removed]",
      "text/plain": [
       "<Figure size 1080x360 with 1 Axes>"
      ]
     },
     "metadata": {
      "needs_background": "light"
     },
     "output_type": "display_data"
    }
   ],
   "source": [
    "diagrama_caixa(base_airbnb_final['guests_included'])\n",
    "grafico_barra(base_airbnb_final['guests_included'])"
   ]
  },
  {
   "cell_type": "code",
   "execution_count": 136,
   "id": "4cf07952",
   "metadata": {},
   "outputs": [
    {
     "data": {
      "text/plain": [
       "1     475691\n",
       "2      81251\n",
       "4      33378\n",
       "3      15616\n",
       "6       8074\n",
       "5       6413\n",
       "7       1009\n",
       "8        595\n",
       "16        87\n",
       "9         82\n",
       "10        65\n",
       "12        57\n",
       "15        23\n",
       "11        15\n",
       "14        10\n",
       "Name: guests_included, dtype: int64"
      ]
     },
     "execution_count": 136,
     "metadata": {},
     "output_type": "execute_result"
    }
   ],
   "source": [
    "base_airbnb_final['guests_included'].value_counts()"
   ]
  },
  {
   "cell_type": "code",
   "execution_count": 137,
   "id": "22a64248",
   "metadata": {},
   "outputs": [
    {
     "data": {
      "text/plain": [
       "(1.0, 1.0)"
      ]
     },
     "execution_count": 137,
     "metadata": {},
     "output_type": "execute_result"
    }
   ],
   "source": [
    "limite(base_airbnb_final['guests_included'])"
   ]
  },
  {
   "cell_type": "markdown",
   "id": "40459c8c",
   "metadata": {},
   "source": [
    "### minimum_nights"
   ]
  },
  {
   "cell_type": "code",
   "execution_count": 138,
   "id": "36dc796b",
   "metadata": {},
   "outputs": [
    {
     "data": {
      "image/png": "[encoded data removed]",
      "text/plain": [
       "<Figure size 1080x360 with 2 Axes>"
      ]
     },
     "metadata": {
      "needs_background": "light"
     },
     "output_type": "display_data"
    },
    {
     "data": {
      "image/png": "[encoded data removed]",
      "text/plain": [
       "<Figure size 1080x360 with 1 Axes>"
      ]
     },
     "metadata": {
      "needs_background": "light"
     },
     "output_type": "display_data"
    }
   ],
   "source": [
    "diagrama_caixa(base_airbnb_final['minimum_nights'])\n",
    "grafico_barra(base_airbnb_final['minimum_nights'])"
   ]
  },
  {
   "cell_type": "code",
   "execution_count": 139,
   "id": "cf1d351f",
   "metadata": {},
   "outputs": [
    {
     "data": {
      "text/plain": [
       "'40383 linhas removidas'"
      ]
     },
     "execution_count": 139,
     "metadata": {},
     "output_type": "execute_result"
    }
   ],
   "source": [
    "base_airbnb_final, linhas_removidas = excluir_outliers(base_airbnb_final,'minimum_nights')\n",
    "linhas_removidas"
   ]
  },
  {
   "cell_type": "code",
   "execution_count": 140,
   "id": "eff4e932",
   "metadata": {},
   "outputs": [
    {
     "data": {
      "image/png": "[encoded data removed]",
      "text/plain": [
       "<Figure size 1080x360 with 2 Axes>"
      ]
     },
     "metadata": {
      "needs_background": "light"
     },
     "output_type": "display_data"
    },
    {
     "data": {
      "image/png": "[encoded data removed]",
      "text/plain": [
       "<Figure size 1080x360 with 1 Axes>"
      ]
     },
     "metadata": {
      "needs_background": "light"
     },
     "output_type": "display_data"
    }
   ],
   "source": [
    "diagrama_caixa(base_airbnb_final['minimum_nights'])\n",
    "grafico_barra(base_airbnb_final['minimum_nights'])"
   ]
  },
  {
   "cell_type": "code",
   "execution_count": 141,
   "id": "1c1440dc",
   "metadata": {},
   "outputs": [
    {
     "data": {
      "text/plain": [
       "1    187531\n",
       "2    158523\n",
       "3    113281\n",
       "5     47472\n",
       "4     39153\n",
       "7     27240\n",
       "6      7104\n",
       "8      1679\n",
       "Name: minimum_nights, dtype: int64"
      ]
     },
     "execution_count": 141,
     "metadata": {},
     "output_type": "execute_result"
    }
   ],
   "source": [
    "base_airbnb_final['minimum_nights'].value_counts()"
   ]
  },
  {
   "cell_type": "markdown",
   "id": "91263a96",
   "metadata": {},
   "source": [
    "### maximum_nights"
   ]
  },
  {
   "cell_type": "code",
   "execution_count": 142,
   "id": "22aea34b",
   "metadata": {},
   "outputs": [
    {
     "data": {
      "image/png": "[encoded data removed]",
      "text/plain": [
       "<Figure size 1080x360 with 2 Axes>"
      ]
     },
     "metadata": {
      "needs_background": "light"
     },
     "output_type": "display_data"
    },
    {
     "data": {
      "image/png": "[encoded data removed]",
      "text/plain": [
       "<Figure size 1080x360 with 1 Axes>"
      ]
     },
     "metadata": {
      "needs_background": "light"
     },
     "output_type": "display_data"
    }
   ],
   "source": [
    "diagrama_caixa(base_airbnb_final['maximum_nights'])\n",
    "grafico_barra(base_airbnb_final['maximum_nights'])"
   ]
  },
  {
   "cell_type": "code",
   "execution_count": 143,
   "id": "a4d6c21e",
   "metadata": {},
   "outputs": [
    {
     "data": {
      "text/plain": [
       "(581983, 23)"
      ]
     },
     "execution_count": 143,
     "metadata": {},
     "output_type": "execute_result"
    }
   ],
   "source": [
    "base_airbnb_final = base_airbnb_final.drop('maximum_nights', axis=1)\n",
    "base_airbnb_final.shape"
   ]
  },
  {
   "cell_type": "code",
   "execution_count": 144,
   "id": "6feb8d43",
   "metadata": {},
   "outputs": [
    {
     "data": {
      "text/plain": [
       "(581983, 22)"
      ]
     },
     "execution_count": 144,
     "metadata": {},
     "output_type": "execute_result"
    }
   ],
   "source": [
    "base_airbnb_final = base_airbnb_final.drop('Unnamed: 0', axis=1)\n",
    "base_airbnb_final.shape"
   ]
  },
  {
   "cell_type": "markdown",
   "id": "5292cfca",
   "metadata": {},
   "source": [
    "### number_of_reviews"
   ]
  },
  {
   "cell_type": "code",
   "execution_count": 145,
   "id": "4258728d",
   "metadata": {},
   "outputs": [
    {
     "data": {
      "image/png": "[encoded data removed]",
      "text/plain": [
       "<Figure size 1080x360 with 2 Axes>"
      ]
     },
     "metadata": {
      "needs_background": "light"
     },
     "output_type": "display_data"
    },
    {
     "data": {
      "image/png": "[encoded data removed]",
      "text/plain": [
       "<Figure size 1080x360 with 1 Axes>"
      ]
     },
     "metadata": {
      "needs_background": "light"
     },
     "output_type": "display_data"
    }
   ],
   "source": [
    "diagrama_caixa(base_airbnb_final['number_of_reviews'])\n",
    "grafico_barra(base_airbnb_final['number_of_reviews'])"
   ]
  },
  {
   "cell_type": "code",
   "execution_count": 146,
   "id": "e8d60cda",
   "metadata": {},
   "outputs": [
    {
     "data": {
      "text/plain": [
       "(581983, 21)"
      ]
     },
     "execution_count": 146,
     "metadata": {},
     "output_type": "execute_result"
    }
   ],
   "source": [
    "base_airbnb_final = base_airbnb_final.drop('number_of_reviews', axis=1)\n",
    "base_airbnb_final.shape"
   ]
  },
  {
   "cell_type": "code",
   "execution_count": 147,
   "id": "ead2cf0d",
   "metadata": {},
   "outputs": [
    {
     "data": {
      "text/html": [
       "<div>\n",
       "<style scoped>\n",
       "    .dataframe tbody tr th:only-of-type {\n",
       "        vertical-align: middle;\n",
       "    }\n",
       "\n",
       "    .dataframe tbody tr th {\n",
       "        vertical-align: top;\n",
       "    }\n",
       "\n",
       "    .dataframe thead th {\n",
       "        text-align: right;\n",
       "    }\n",
       "</style>\n",
       "<table border=\"1\" class=\"dataframe\">\n",
       "  <thead>\n",
       "    <tr style=\"text-align: right;\">\n",
       "      <th></th>\n",
       "      <th>host_is_superhost</th>\n",
       "      <th>host_listings_count</th>\n",
       "      <th>latitude</th>\n",
       "      <th>longitude</th>\n",
       "      <th>property_type</th>\n",
       "      <th>room_type</th>\n",
       "      <th>accommodates</th>\n",
       "      <th>bathrooms</th>\n",
       "      <th>bedrooms</th>\n",
       "      <th>beds</th>\n",
       "      <th>...</th>\n",
       "      <th>amenities</th>\n",
       "      <th>price</th>\n",
       "      <th>guests_included</th>\n",
       "      <th>extra_people</th>\n",
       "      <th>minimum_nights</th>\n",
       "      <th>instant_bookable</th>\n",
       "      <th>is_business_travel_ready</th>\n",
       "      <th>cancellation_policy</th>\n",
       "      <th>ano</th>\n",
       "      <th>mes</th>\n",
       "    </tr>\n",
       "  </thead>\n",
       "  <tbody>\n",
       "    <tr>\n",
       "      <th>1</th>\n",
       "      <td>t</td>\n",
       "      <td>2.0</td>\n",
       "      <td>-22.965919</td>\n",
       "      <td>-43.178962</td>\n",
       "      <td>Condominium</td>\n",
       "      <td>Entire home/apt</td>\n",
       "      <td>5</td>\n",
       "      <td>1.0</td>\n",
       "      <td>2.0</td>\n",
       "      <td>2.0</td>\n",
       "      <td>...</td>\n",
       "      <td>{TV,\"Cable TV\",Internet,Wifi,\"Air conditioning...</td>\n",
       "      <td>270.0</td>\n",
       "      <td>2</td>\n",
       "      <td>51.0</td>\n",
       "      <td>4</td>\n",
       "      <td>t</td>\n",
       "      <td>f</td>\n",
       "      <td>strict</td>\n",
       "      <td>2018</td>\n",
       "      <td>4</td>\n",
       "    </tr>\n",
       "    <tr>\n",
       "      <th>3</th>\n",
       "      <td>f</td>\n",
       "      <td>3.0</td>\n",
       "      <td>-22.977117</td>\n",
       "      <td>-43.190454</td>\n",
       "      <td>Apartment</td>\n",
       "      <td>Entire home/apt</td>\n",
       "      <td>3</td>\n",
       "      <td>1.0</td>\n",
       "      <td>1.0</td>\n",
       "      <td>2.0</td>\n",
       "      <td>...</td>\n",
       "      <td>{TV,\"Cable TV\",Internet,Wifi,\"Air conditioning...</td>\n",
       "      <td>161.0</td>\n",
       "      <td>2</td>\n",
       "      <td>45.0</td>\n",
       "      <td>4</td>\n",
       "      <td>f</td>\n",
       "      <td>f</td>\n",
       "      <td>strict</td>\n",
       "      <td>2018</td>\n",
       "      <td>4</td>\n",
       "    </tr>\n",
       "    <tr>\n",
       "      <th>4</th>\n",
       "      <td>t</td>\n",
       "      <td>1.0</td>\n",
       "      <td>-22.983024</td>\n",
       "      <td>-43.214270</td>\n",
       "      <td>Apartment</td>\n",
       "      <td>Entire home/apt</td>\n",
       "      <td>3</td>\n",
       "      <td>1.0</td>\n",
       "      <td>1.0</td>\n",
       "      <td>2.0</td>\n",
       "      <td>...</td>\n",
       "      <td>{TV,\"Cable TV\",Internet,Wifi,\"Air conditioning...</td>\n",
       "      <td>222.0</td>\n",
       "      <td>2</td>\n",
       "      <td>68.0</td>\n",
       "      <td>2</td>\n",
       "      <td>t</td>\n",
       "      <td>f</td>\n",
       "      <td>strict</td>\n",
       "      <td>2018</td>\n",
       "      <td>4</td>\n",
       "    </tr>\n",
       "    <tr>\n",
       "      <th>5</th>\n",
       "      <td>t</td>\n",
       "      <td>1.0</td>\n",
       "      <td>-22.988165</td>\n",
       "      <td>-43.193588</td>\n",
       "      <td>Apartment</td>\n",
       "      <td>Entire home/apt</td>\n",
       "      <td>3</td>\n",
       "      <td>1.5</td>\n",
       "      <td>1.0</td>\n",
       "      <td>2.0</td>\n",
       "      <td>...</td>\n",
       "      <td>{TV,\"Cable TV\",Internet,Wifi,\"Air conditioning...</td>\n",
       "      <td>308.0</td>\n",
       "      <td>2</td>\n",
       "      <td>86.0</td>\n",
       "      <td>2</td>\n",
       "      <td>f</td>\n",
       "      <td>f</td>\n",
       "      <td>strict</td>\n",
       "      <td>2018</td>\n",
       "      <td>4</td>\n",
       "    </tr>\n",
       "  </tbody>\n",
       "</table>\n",
       "<p>4 rows × 21 columns</p>\n",
       "</div>"
      ],
      "text/plain": [
       "  host_is_superhost  host_listings_count   latitude  longitude property_type  \\\n",
       "1                 t                  2.0 -22.965919 -43.178962   Condominium   \n",
       "3                 f                  3.0 -22.977117 -43.190454     Apartment   \n",
       "4                 t                  1.0 -22.983024 -43.214270     Apartment   \n",
       "5                 t                  1.0 -22.988165 -43.193588     Apartment   \n",
       "\n",
       "         room_type  accommodates  bathrooms  bedrooms  beds  ...  \\\n",
       "1  Entire home/apt             5        1.0       2.0   2.0  ...   \n",
       "3  Entire home/apt             3        1.0       1.0   2.0  ...   \n",
       "4  Entire home/apt             3        1.0       1.0   2.0  ...   \n",
       "5  Entire home/apt             3        1.5       1.0   2.0  ...   \n",
       "\n",
       "                                           amenities  price  guests_included  \\\n",
       "1  {TV,\"Cable TV\",Internet,Wifi,\"Air conditioning...  270.0                2   \n",
       "3  {TV,\"Cable TV\",Internet,Wifi,\"Air conditioning...  161.0                2   \n",
       "4  {TV,\"Cable TV\",Internet,Wifi,\"Air conditioning...  222.0                2   \n",
       "5  {TV,\"Cable TV\",Internet,Wifi,\"Air conditioning...  308.0                2   \n",
       "\n",
       "   extra_people  minimum_nights  instant_bookable is_business_travel_ready  \\\n",
       "1          51.0               4                 t                        f   \n",
       "3          45.0               4                 f                        f   \n",
       "4          68.0               2                 t                        f   \n",
       "5          86.0               2                 f                        f   \n",
       "\n",
       "  cancellation_policy   ano  mes  \n",
       "1              strict  2018    4  \n",
       "3              strict  2018    4  \n",
       "4              strict  2018    4  \n",
       "5              strict  2018    4  \n",
       "\n",
       "[4 rows x 21 columns]"
      ]
     },
     "execution_count": 147,
     "metadata": {},
     "output_type": "execute_result"
    }
   ],
   "source": [
    "base_airbnb_final.head(4)"
   ]
  },
  {
   "cell_type": "markdown",
   "id": "aa59ad35",
   "metadata": {},
   "source": [
    "### Tratamento de colunas de Valores de texto\n",
    "\n",
    "- property_type"
   ]
  },
  {
   "cell_type": "code",
   "execution_count": 148,
   "id": "e38725ae",
   "metadata": {},
   "outputs": [
    {
     "data": {
      "text/plain": [
       "Apartment                 458354\n",
       "House                      51387\n",
       "Condominium                26456\n",
       "Serviced apartment         12671\n",
       "Loft                       12352\n",
       "Guest suite                 3621\n",
       "Bed and breakfast           3472\n",
       "Hostel                      2665\n",
       "Guesthouse                  2155\n",
       "Other                       1957\n",
       "Villa                       1294\n",
       "Townhouse                    969\n",
       "Aparthotel                   693\n",
       "Chalet                       481\n",
       "Earth house                  468\n",
       "Tiny house                   457\n",
       "Boutique hotel               447\n",
       "Hotel                        376\n",
       "Casa particular (Cuba)       298\n",
       "Cottage                      230\n",
       "Bungalow                     207\n",
       "Dorm                         185\n",
       "Cabin                        141\n",
       "Nature lodge                 124\n",
       "Castle                        80\n",
       "Treehouse                     76\n",
       "Island                        54\n",
       "Boat                          53\n",
       "Hut                           40\n",
       "Campsite                      34\n",
       "Resort                        31\n",
       "Camper/RV                     24\n",
       "Yurt                          23\n",
       "Tent                          18\n",
       "Tipi                          17\n",
       "Barn                          15\n",
       "Farm stay                     13\n",
       "Pension (South Korea)          9\n",
       "Dome house                     8\n",
       "Igloo                          6\n",
       "In-law                         6\n",
       "Vacation home                  4\n",
       "Timeshare                      3\n",
       "Pousada                        3\n",
       "Houseboat                      3\n",
       "Casa particular                2\n",
       "Plane                          1\n",
       "Name: property_type, dtype: int64"
      ]
     },
     "execution_count": 148,
     "metadata": {},
     "output_type": "execute_result"
    }
   ],
   "source": [
    "base_airbnb_final['property_type'].value_counts()"
   ]
  },
  {
   "cell_type": "code",
   "execution_count": 149,
   "id": "7039b8fd",
   "metadata": {},
   "outputs": [
    {
     "name": "stdout",
     "output_type": "stream",
     "text": [
      "['Other', 'Villa', 'Townhouse', 'Aparthotel', 'Chalet', 'Earth house', 'Tiny house', 'Boutique hotel', 'Hotel', 'Casa particular (Cuba)', 'Cottage', 'Bungalow', 'Dorm', 'Cabin', 'Nature lodge', 'Castle', 'Treehouse', 'Island', 'Boat', 'Hut', 'Campsite', 'Resort', 'Camper/RV', 'Yurt', 'Tent', 'Tipi', 'Barn', 'Farm stay', 'Pension (South Korea)', 'Dome house', 'Igloo', 'In-law', 'Vacation home', 'Timeshare', 'Pousada', 'Houseboat', 'Casa particular', 'Plane']\n"
     ]
    }
   ],
   "source": [
    "# Localizar as linhas com valores abaixo de 2000\n",
    "\n",
    "outros = []\n",
    "for i, num in enumerate(base_airbnb_final['property_type'].value_counts()):\n",
    "    if num > 2000:\n",
    "        pass\n",
    "    else:\n",
    "        outros.append(base_airbnb_final['property_type'].value_counts().index[i])\n",
    "        \n",
    "print(outros)"
   ]
  },
  {
   "cell_type": "code",
   "execution_count": 170,
   "id": "83a6edd6",
   "metadata": {},
   "outputs": [
    {
     "name": "stdout",
     "output_type": "stream",
     "text": [
      "Apartment             458354\n",
      "House                  51387\n",
      "Condominium            26456\n",
      "Serviced apartment     12671\n",
      "Loft                   12352\n",
      "Outros                  8850\n",
      "Guest suite             3621\n",
      "Bed and breakfast       3472\n",
      "Hostel                  2665\n",
      "Guesthouse              2155\n",
      "Name: property_type, dtype: int64\n"
     ]
    }
   ],
   "source": [
    "for i in outros:\n",
    "    base_airbnb_final.loc[temp['property_type'] == i, 'property_type'] = 'Outros'\n",
    "    \n",
    "    \n",
    "print(base_airbnb_final['property_type'].value_counts())"
   ]
  },
  {
   "cell_type": "code",
   "execution_count": 176,
   "id": "47348cbb",
   "metadata": {},
   "outputs": [
    {
     "name": "stderr",
     "output_type": "stream",
     "text": [
      "E:\\Anaconda3\\lib\\site-packages\\seaborn\\_decorators.py:36: FutureWarning: Pass the following variable as a keyword arg: x. From version 0.12, the only valid positional argument will be `data`, and passing other arguments without an explicit keyword will result in an error or misinterpretation.\n",
      "  warnings.warn(\n"
     ]
    },
    {
     "data": {
      "image/png": "[encoded data removed]",
      "text/plain": [
       "<Figure size 1080x360 with 1 Axes>"
      ]
     },
     "metadata": {
      "needs_background": "light"
     },
     "output_type": "display_data"
    }
   ],
   "source": [
    "plt.figure(figsize=(15,5))\n",
    "grafico = sns.countplot('property_type', data=base_airbnb_final)\n",
    "#grafico.tick_params(axis='x', rotation=90)"
   ]
  },
  {
   "cell_type": "markdown",
   "id": "8f1a2df5",
   "metadata": {},
   "source": [
    "- romm_type"
   ]
  },
  {
   "cell_type": "code",
   "execution_count": 179,
   "id": "5562812a",
   "metadata": {
    "scrolled": true
   },
   "outputs": [
    {
     "data": {
      "text/plain": [
       "Entire home/apt    372443\n",
       "Private room       196859\n",
       "Shared room         11714\n",
       "Hotel room            967\n",
       "Name: room_type, dtype: int64"
      ]
     },
     "execution_count": 179,
     "metadata": {},
     "output_type": "execute_result"
    }
   ],
   "source": [
    "base_airbnb_final['room_type'].value_counts()"
   ]
  },
  {
   "cell_type": "code",
   "execution_count": 180,
   "id": "84b413a3",
   "metadata": {},
   "outputs": [
    {
     "name": "stderr",
     "output_type": "stream",
     "text": [
      "E:\\Anaconda3\\lib\\site-packages\\seaborn\\_decorators.py:36: FutureWarning: Pass the following variable as a keyword arg: x. From version 0.12, the only valid positional argument will be `data`, and passing other arguments without an explicit keyword will result in an error or misinterpretation.\n",
      "  warnings.warn(\n"
     ]
    },
    {
     "data": {
      "image/png": "[encoded data removed]",
      "text/plain": [
       "<Figure size 1080x360 with 1 Axes>"
      ]
     },
     "metadata": {
      "needs_background": "light"
     },
     "output_type": "display_data"
    }
   ],
   "source": [
    "plt.figure(figsize=(15,5))\n",
    "grafico = sns.countplot('room_type', data=base_airbnb_final)\n",
    "#grafico.tick_params(axis='x', rotation=90)"
   ]
  },
  {
   "cell_type": "markdown",
   "id": "4bcd88a9",
   "metadata": {},
   "source": [
    "- bed_type"
   ]
  },
  {
   "cell_type": "code",
   "execution_count": 181,
   "id": "02399f8a",
   "metadata": {
    "scrolled": true
   },
   "outputs": [
    {
     "data": {
      "text/plain": [
       "Real Bed         570643\n",
       "Pull-out Sofa      8055\n",
       "Futon              1634\n",
       "Airbed             1155\n",
       "Couch               496\n",
       "Name: bed_type, dtype: int64"
      ]
     },
     "execution_count": 181,
     "metadata": {},
     "output_type": "execute_result"
    }
   ],
   "source": [
    "base_airbnb_final['bed_type'].value_counts()"
   ]
  },
  {
   "cell_type": "code",
   "execution_count": 182,
   "id": "8ad4e431",
   "metadata": {},
   "outputs": [
    {
     "name": "stderr",
     "output_type": "stream",
     "text": [
      "E:\\Anaconda3\\lib\\site-packages\\seaborn\\_decorators.py:36: FutureWarning: Pass the following variable as a keyword arg: x. From version 0.12, the only valid positional argument will be `data`, and passing other arguments without an explicit keyword will result in an error or misinterpretation.\n",
      "  warnings.warn(\n"
     ]
    },
    {
     "data": {
      "image/png": "[encoded data removed]",
      "text/plain": [
       "<Figure size 1080x360 with 1 Axes>"
      ]
     },
     "metadata": {
      "needs_background": "light"
     },
     "output_type": "display_data"
    }
   ],
   "source": [
    "plt.figure(figsize=(15,5))\n",
    "grafico = sns.countplot('bed_type', data=base_airbnb_final)\n",
    "#grafico.tick_params(axis='x', rotation=90)"
   ]
  },
  {
   "cell_type": "markdown",
   "id": "d7879acd",
   "metadata": {},
   "source": [
    "- cancellation_policy"
   ]
  },
  {
   "cell_type": "code",
   "execution_count": 183,
   "id": "03b1cc1e",
   "metadata": {
    "scrolled": true
   },
   "outputs": [
    {
     "data": {
      "text/plain": [
       "flexible                       258096\n",
       "strict_14_with_grace_period    200743\n",
       "moderate                       113281\n",
       "strict                           9696\n",
       "super_strict_60                   135\n",
       "super_strict_30                    32\n",
       "Name: cancellation_policy, dtype: int64"
      ]
     },
     "execution_count": 183,
     "metadata": {},
     "output_type": "execute_result"
    }
   ],
   "source": [
    "# Verificando a contagem de valores\n",
    "base_airbnb_final['cancellation_policy'].value_counts()"
   ]
  },
  {
   "cell_type": "code",
   "execution_count": 184,
   "id": "3aca8541",
   "metadata": {},
   "outputs": [
    {
     "name": "stderr",
     "output_type": "stream",
     "text": [
      "E:\\Anaconda3\\lib\\site-packages\\seaborn\\_decorators.py:36: FutureWarning: Pass the following variable as a keyword arg: x. From version 0.12, the only valid positional argument will be `data`, and passing other arguments without an explicit keyword will result in an error or misinterpretation.\n",
      "  warnings.warn(\n"
     ]
    },
    {
     "data": {
      "image/png": "[encoded data removed]",
      "text/plain": [
       "<Figure size 1080x360 with 1 Axes>"
      ]
     },
     "metadata": {
      "needs_background": "light"
     },
     "output_type": "display_data"
    }
   ],
   "source": [
    "# Exibição do gráfico para melhor compreensão\n",
    "plt.figure(figsize=(15,5))\n",
    "grafico = sns.countplot('cancellation_policy', data=base_airbnb_final)\n",
    "#grafico.tick_params(axis='x', rotation=90)"
   ]
  },
  {
   "cell_type": "code",
   "execution_count": 193,
   "id": "9b795bca",
   "metadata": {},
   "outputs": [
    {
     "data": {
      "text/plain": [
       "['strict', 'super_strict_60', 'super_strict_30']"
      ]
     },
     "execution_count": 193,
     "metadata": {},
     "output_type": "execute_result"
    }
   ],
   "source": [
    "# Criação da lista base para substituir os valores da base_airbnb_final\n",
    "contagem_cancellation = base_airbnb_final['cancellation_policy'].value_counts()\n",
    "strict = [contagem_cancellation.index[i] for i, num in enumerate(contagem_cancellation) if num < 10000]\n",
    "strict"
   ]
  },
  {
   "cell_type": "code",
   "execution_count": 196,
   "id": "4995192e",
   "metadata": {},
   "outputs": [],
   "source": [
    "# Substituindo todas as linhas que atendem aos valores da lista\n",
    "for item in strict:\n",
    "    base_airbnb_final.loc[base_airbnb_final['cancellation_policy'] == item, 'cancellation_policy'] = 'strict'"
   ]
  },
  {
   "cell_type": "code",
   "execution_count": 198,
   "id": "c7292f21",
   "metadata": {},
   "outputs": [
    {
     "data": {
      "text/plain": [
       "flexible                       258096\n",
       "strict_14_with_grace_period    200743\n",
       "moderate                       113281\n",
       "strict                           9863\n",
       "Name: cancellation_policy, dtype: int64"
      ]
     },
     "execution_count": 198,
     "metadata": {},
     "output_type": "execute_result"
    }
   ],
   "source": [
    "# Nova verificação da contagem de valores únicos\n",
    "base_airbnb_final['cancellation_policy'].value_counts()"
   ]
  },
  {
   "cell_type": "code",
   "execution_count": 199,
   "id": "fce1eb52",
   "metadata": {},
   "outputs": [
    {
     "name": "stderr",
     "output_type": "stream",
     "text": [
      "E:\\Anaconda3\\lib\\site-packages\\seaborn\\_decorators.py:36: FutureWarning: Pass the following variable as a keyword arg: x. From version 0.12, the only valid positional argument will be `data`, and passing other arguments without an explicit keyword will result in an error or misinterpretation.\n",
      "  warnings.warn(\n"
     ]
    },
    {
     "data": {
      "image/png": "[encoded data removed]",
      "text/plain": [
       "<Figure size 1080x360 with 1 Axes>"
      ]
     },
     "metadata": {
      "needs_background": "light"
     },
     "output_type": "display_data"
    }
   ],
   "source": [
    "# Geração do novo gráfico já com as informações ajustadas\n",
    "plt.figure(figsize=(15,5))\n",
    "grafico = sns.countplot('cancellation_policy', data=base_airbnb_final)\n",
    "#grafico.tick_params(axis='x', rotation=90)"
   ]
  },
  {
   "cell_type": "code",
   "execution_count": null,
   "id": "f859292f",
   "metadata": {},
   "outputs": [],
   "source": []
  },
  {
   "cell_type": "code",
   "execution_count": null,
   "id": "b75a00e8",
   "metadata": {},
   "outputs": [],
   "source": []
  },
  {
   "cell_type": "code",
   "execution_count": null,
   "id": "9538a351",
   "metadata": {},
   "outputs": [],
   "source": []
  },
  {
   "cell_type": "code",
   "execution_count": null,
   "id": "59f9a45e",
   "metadata": {},
   "outputs": [],
   "source": []
  },
  {
   "cell_type": "code",
   "execution_count": null,
   "id": "08596103",
   "metadata": {},
   "outputs": [],
   "source": []
  }
 ],
 "metadata": {
  "kernelspec": {
   "display_name": "Python 3 (ipykernel)",
   "language": "python",
   "name": "python3"
  },
  "language_info": {
   "codemirror_mode": {
    "name": "ipython",
    "version": 3
   },
   "file_extension": ".py",
   "mimetype": "text/x-python",
   "name": "python",
   "nbconvert_exporter": "python",
   "pygments_lexer": "ipython3",
   "version": "3.9.12"
  }
 },
 "nbformat": 4,
 "nbformat_minor": 5
}
